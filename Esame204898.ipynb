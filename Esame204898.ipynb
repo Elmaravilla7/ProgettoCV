{
  "nbformat": 4,
  "nbformat_minor": 0,
  "metadata": {
    "accelerator": "GPU",
    "colab": {
      "name": "Esame.ipynb",
      "provenance": [],
      "collapsed_sections": [],
      "toc_visible": true,
      "machine_shape": "hm"
    },
    "kernelspec": {
      "display_name": "Python 3",
      "language": "python",
      "name": "python3"
    },
    "language_info": {
      "codemirror_mode": {
        "name": "ipython",
        "version": 3
      },
      "file_extension": ".py",
      "mimetype": "text/x-python",
      "name": "python",
      "nbconvert_exporter": "python",
      "pygments_lexer": "ipython3",
      "version": "3.8.3"
    }
  },
  "cells": [
    {
      "cell_type": "code",
      "metadata": {
        "colab_type": "code",
        "id": "o9hCu23B6J6T",
        "colab": {
          "base_uri": "https://localhost:8080/",
          "height": 35
        },
        "outputId": "3edcd719-f40c-426d-9dbc-fcb2db6921f6"
      },
      "source": [
        "import os\n",
        "import json\n",
        "import time\n",
        "from datetime import datetime\n",
        "import torch\n",
        "import torch.nn as nn\n",
        "import torch.nn.functional as F\n",
        "from torch.utils.data import Dataset, DataLoader\n",
        "import torchvision\n",
        "import cv2\n",
        "from sklearn.metrics import accuracy_score\n",
        "from PIL import Image\n",
        "import pandas as pd\n",
        "import numpy as np\n",
        "import matplotlib.pyplot as plt\n",
        "%matplotlib inline\n",
        "USE_CUDA = True\n",
        "CUDA = USE_CUDA and torch.cuda.is_available()\n",
        "device = torch.device(\"cuda\" if CUDA else \"cpu\")\n",
        "\n",
        "if CUDA:\n",
        "    print('run on %s' % device)"
      ],
      "execution_count": null,
      "outputs": [
        {
          "output_type": "stream",
          "text": [
            "run on cuda\n"
          ],
          "name": "stdout"
        }
      ]
    },
    {
      "cell_type": "code",
      "metadata": {
        "colab_type": "code",
        "id": "GzZUQUnqE424",
        "colab": {
          "base_uri": "https://localhost:8080/",
          "height": 141
        },
        "outputId": "d02670f9-98f2-4619-b7e5-04a2928b0545"
      },
      "source": [
        "from google.colab import drive\n",
        "drive.mount('/content/drive')\n",
        "!cp -avr 'drive/My Drive/ProgettoCV204898/dataset.zip' ./\n",
        "!cp -f 'drive/My Drive/ProgettoCV204898/testset_keys_1lug2020.txt' ./\n",
        "!unzip -qq './dataset.zip' -d './'"
      ],
      "execution_count": null,
      "outputs": [
        {
          "output_type": "stream",
          "text": [
            "Go to this URL in a browser: https://accounts.google.com/o/oauth2/auth?client_id=947318989803-6bn6qk8qdgf4n4g3pfee6491hc0brc4i.apps.googleusercontent.com&redirect_uri=urn%3aietf%3awg%3aoauth%3a2.0%3aoob&scope=email%20https%3a%2f%2fwww.googleapis.com%2fauth%2fdocs.test%20https%3a%2f%2fwww.googleapis.com%2fauth%2fdrive%20https%3a%2f%2fwww.googleapis.com%2fauth%2fdrive.photos.readonly%20https%3a%2f%2fwww.googleapis.com%2fauth%2fpeopleapi.readonly&response_type=code\n",
            "\n",
            "Enter your authorization code:\n",
            "··········\n",
            "Mounted at /content/drive\n",
            "'drive/My Drive/ProgettoCV204898/dataset.zip' -> './dataset.zip'\n"
          ],
          "name": "stdout"
        }
      ]
    },
    {
      "cell_type": "code",
      "metadata": {
        "colab_type": "code",
        "id": "uVLxvNRXEHLt",
        "colab": {
          "base_uri": "https://localhost:8080/",
          "height": 35
        },
        "outputId": "d2bb7024-1885-43ec-e06f-46c064625809"
      },
      "source": [
        "PATH='./'\n",
        "DATASET_DIR = './dataset/'\n",
        "DATASET_FILES = './dataset/examples/'\n",
        "KEYSET_FILE = './testset_keys_1lug2020.txt'\n",
        "\n",
        "\n",
        "LABELS = {0 : \"block\", 1 : \"pass\", 2 : \"run\", 3: \"dribble\",4: \"shoot\",\n",
        "          5 : \"ball in hand\", 6 : \"defense\", 7: \"pick\" , 8 : \"no_action\" , \n",
        "          9: \"walk\" ,10: \"discard\"}\n",
        "\n",
        "\n",
        "with open(os.path.join(DATASET_DIR, 'annotation_dict.json')) as fp:\n",
        "    annotations = json.load(fp)\n",
        "\n",
        "with open(KEYSET_FILE) as fp:\n",
        "    keys_test = json.load(fp)\n",
        "\n",
        "annotationTrain = dict(filter(lambda x: x[0] not in keys_test, annotations.items()))\n",
        "annotationTest = dict(filter(lambda x: x[0] in keys_test, annotations.items()))\n",
        "\n",
        "len(annotations), len(annotationTrain), len(annotationTest)\n"
      ],
      "execution_count": null,
      "outputs": [
        {
          "output_type": "execute_result",
          "data": {
            "text/plain": [
              "(37085, 25959, 11126)"
            ]
          },
          "metadata": {
            "tags": []
          },
          "execution_count": 4
        }
      ]
    },
    {
      "cell_type": "code",
      "metadata": {
        "colab_type": "code",
        "id": "yD6XR9dwwOw_",
        "colab": {}
      },
      "source": [
        "from sklearn.model_selection import train_test_split\n",
        "\n",
        "X_train, X_val, y_train, y_val = train_test_split(list(annotationTrain.keys()), list(annotationTrain.values()), test_size=0.02, random_state=42)\n",
        "X_test,y_test=list(annotationTest.keys()),list(annotationTest.values())\n"
      ],
      "execution_count": null,
      "outputs": []
    },
    {
      "cell_type": "code",
      "metadata": {
        "colab_type": "code",
        "id": "VtN9am_BzERt",
        "colab": {}
      },
      "source": [
        "import torch\n",
        "from torch import nn\n",
        "import torch.nn.functional as F\n",
        " \n",
        "class S3D(nn.Module):\n",
        "    def __init__(self, num_class):\n",
        "        super(S3D, self).__init__()\n",
        "        self.base = nn.Sequential(\n",
        "            SepConv3d(3, 64, kernel_size=7, stride=2, padding=3),                           #Sep-Conv7x7x7\n",
        "            nn.MaxPool3d(kernel_size=(1,3,3), stride=(1,2,2), padding=(0,1,1)),             #1x3x3 MaxPool\n",
        "            BasicConv3d(64, 64, kernel_size=1, stride=1),                                   #1x1x1 Conv\n",
        "            SepConv3d(64, 192, kernel_size=3, stride=1, padding=1),                         #Sep-Conv 3x3x3 (Conv3D 1x3x3->Conv3D 3x1x1)\n",
        "            nn.MaxPool3d(kernel_size=(1,3,3), stride=(1,2,2), padding=(0,1,1)),             #1x3x3 MaxPool\n",
        "            Mixed_3b(),\n",
        "            Mixed_3c(),\n",
        "            nn.MaxPool3d(kernel_size=(3,3,3), stride=(2,2,2), padding=(1,1,1)),\n",
        "            Mixed_4b(),\n",
        "            Mixed_4c(),\n",
        "            Mixed_4d(),\n",
        "            Mixed_4e(),\n",
        "            Mixed_4f(),\n",
        "            nn.MaxPool3d(kernel_size=(2,2,2), stride=(2,2,2), padding=(0,0,0)),\n",
        "            Mixed_5b(),\n",
        "            Mixed_5c(),\n",
        "        )\n",
        "        self.fc = nn.Sequential(nn.Conv3d(1024, num_class, kernel_size=1, stride=1, bias=True),)\n",
        " \n",
        "    def forward(self, x):\n",
        "        y = self.base(x)\n",
        "        y = F.avg_pool3d(y, (2, y.size(3), y.size(4)), stride=1)\n",
        "        y = self.fc(y)\n",
        "        y = y.view(y.size(0), y.size(1), y.size(2))\n",
        "        logits = torch.mean(y, 2)\n",
        " \n",
        "        return logits"
      ],
      "execution_count": null,
      "outputs": []
    },
    {
      "cell_type": "code",
      "metadata": {
        "colab_type": "code",
        "id": "RMYVaPIjzsxM",
        "colab": {}
      },
      "source": [
        "class BasicConv3d(nn.Module):\n",
        "    def __init__(self, in_planes, out_planes, kernel_size, stride, padding=0):\n",
        "        super(BasicConv3d, self).__init__()\n",
        "        self.conv = nn.Conv3d(in_planes, out_planes, kernel_size=kernel_size, stride=stride, padding=padding, bias=False)\n",
        "        self.bn = nn.BatchNorm3d(out_planes, eps=1e-3, momentum=0.001, affine=True)\n",
        "        self.relu = nn.ReLU()\n",
        " \n",
        "    def forward(self, x):\n",
        "        x = self.conv(x)\n",
        "        x = self.bn(x)\n",
        "        x = self.relu(x)\n",
        "        return x"
      ],
      "execution_count": null,
      "outputs": []
    },
    {
      "cell_type": "code",
      "metadata": {
        "colab_type": "code",
        "id": "UzHO8D1Hz5xL",
        "colab": {}
      },
      "source": [
        "class SepConv3d(nn.Module):\n",
        "    def __init__(self, in_planes, out_planes, kernel_size, stride, padding=0):\n",
        "        super(SepConv3d, self).__init__()\n",
        "        self.conv_s = nn.Conv3d(in_planes, out_planes, kernel_size=(1,kernel_size,kernel_size), stride=(1,stride,stride), padding=(0,padding,padding), bias=False)\n",
        "        self.bn_s = nn.BatchNorm3d(out_planes, eps=1e-3, momentum=0.001, affine=True)\n",
        "        self.relu_s = nn.ReLU()\n",
        " \n",
        "        self.conv_t = nn.Conv3d(out_planes, out_planes, kernel_size=(kernel_size,1,1), stride=(stride,1,1), padding=(padding,0,0), bias=False)\n",
        "        self.bn_t = nn.BatchNorm3d(out_planes, eps=1e-3, momentum=0.001, affine=True)\n",
        "        self.relu_t = nn.ReLU()\n",
        " \n",
        "    def forward(self, x):\n",
        "        x = self.conv_s(x)\n",
        "        x = self.bn_s(x)\n",
        "        x = self.relu_s(x)\n",
        " \n",
        "        x = self.conv_t(x)\n",
        "        x = self.bn_t(x)\n",
        "        x = self.relu_t(x)\n",
        "        return x"
      ],
      "execution_count": null,
      "outputs": []
    },
    {
      "cell_type": "code",
      "metadata": {
        "colab_type": "code",
        "id": "mYyNj6-Mz_nL",
        "colab": {}
      },
      "source": [
        "class Mixed_3b(nn.Module):\n",
        "    def __init__(self):\n",
        "        super(Mixed_3b, self).__init__()\n",
        " \n",
        "        self.branch0 = nn.Sequential(\n",
        "            BasicConv3d(192, 64, kernel_size=1, stride=1),                        #Branch 1x1x1\n",
        "        )\n",
        "        self.branch1 = nn.Sequential(\n",
        "            BasicConv3d(192, 96, kernel_size=1, stride=1),                        #Branch 1x1x1\n",
        "            SepConv3d(96, 128, kernel_size=3, stride=1, padding=1),               #Conv3Dx3x3->Conv3D 3x1x1\n",
        "        )\n",
        "        self.branch2 = nn.Sequential(\n",
        "            BasicConv3d(192, 16, kernel_size=1, stride=1),                        #Branch 1x1x1\n",
        "            SepConv3d(16, 32, kernel_size=3, stride=1, padding=1),                #Conv3Dx3x3->Conv3D 3x1x1\n",
        "        )\n",
        "        self.branch3 = nn.Sequential(\n",
        "            nn.MaxPool3d(kernel_size=(3,3,3), stride=1, padding=1),               #Branch MaxPool 3x3x3\n",
        "            BasicConv3d(192, 32, kernel_size=1, stride=1),                        #Conv3D1x1x1\n",
        "        )\n",
        " \n",
        "    def forward(self, x):\n",
        "        x0 = self.branch0(x)\n",
        "        x1 = self.branch1(x)\n",
        "        x2 = self.branch2(x)\n",
        "        x3 = self.branch3(x)\n",
        "        out = torch.cat((x0, x1, x2, x3), 1)                                      #Concatenazione\n",
        " \n",
        "        return out\n",
        " "
      ],
      "execution_count": null,
      "outputs": []
    },
    {
      "cell_type": "code",
      "metadata": {
        "colab_type": "code",
        "id": "hKib3qPT0D3T",
        "colab": {}
      },
      "source": [
        "class Mixed_3c(nn.Module):\n",
        "    def __init__(self):\n",
        "        super(Mixed_3c, self).__init__()\n",
        "        self.branch0 = nn.Sequential(\n",
        "            BasicConv3d(256, 128, kernel_size=1, stride=1),\n",
        "        )\n",
        "        self.branch1 = nn.Sequential(\n",
        "            BasicConv3d(256, 128, kernel_size=1, stride=1),\n",
        "            SepConv3d(128, 192, kernel_size=3, stride=1, padding=1),\n",
        "        )\n",
        "        self.branch2 = nn.Sequential(\n",
        "            BasicConv3d(256, 32, kernel_size=1, stride=1),\n",
        "            SepConv3d(32, 96, kernel_size=3, stride=1, padding=1),\n",
        "        )\n",
        "        self.branch3 = nn.Sequential(\n",
        "            nn.MaxPool3d(kernel_size=(3,3,3), stride=1, padding=1),\n",
        "            BasicConv3d(256, 64, kernel_size=1, stride=1),\n",
        "        )\n",
        " \n",
        "    def forward(self, x):\n",
        "        x0 = self.branch0(x)\n",
        "        x1 = self.branch1(x)\n",
        "        x2 = self.branch2(x)\n",
        "        x3 = self.branch3(x)\n",
        "        out = torch.cat((x0, x1, x2, x3), 1)\n",
        "        return out\n",
        " "
      ],
      "execution_count": null,
      "outputs": []
    },
    {
      "cell_type": "code",
      "metadata": {
        "colab_type": "code",
        "id": "-v0XN5nt0MRz",
        "colab": {}
      },
      "source": [
        "class Mixed_4b(nn.Module):\n",
        "    def __init__(self):\n",
        "        super(Mixed_4b, self).__init__()\n",
        " \n",
        "        self.branch0 = nn.Sequential(\n",
        "            BasicConv3d(480, 192, kernel_size=1, stride=1),\n",
        "        )\n",
        "        self.branch1 = nn.Sequential(\n",
        "            BasicConv3d(480, 96, kernel_size=1, stride=1),\n",
        "            SepConv3d(96, 208, kernel_size=3, stride=1, padding=1),\n",
        "        )\n",
        "        self.branch2 = nn.Sequential(\n",
        "            BasicConv3d(480, 16, kernel_size=1, stride=1),\n",
        "            SepConv3d(16, 48, kernel_size=3, stride=1, padding=1),\n",
        "        )\n",
        "        self.branch3 = nn.Sequential(\n",
        "            nn.MaxPool3d(kernel_size=(3,3,3), stride=1, padding=1),\n",
        "            BasicConv3d(480, 64, kernel_size=1, stride=1),\n",
        "        )\n",
        " \n",
        "    def forward(self, x):\n",
        "        x0 = self.branch0(x)\n",
        "        x1 = self.branch1(x)\n",
        "        x2 = self.branch2(x)\n",
        "        x3 = self.branch3(x)\n",
        "        out = torch.cat((x0, x1, x2, x3), 1)\n",
        "        return out\n",
        " "
      ],
      "execution_count": null,
      "outputs": []
    },
    {
      "cell_type": "code",
      "metadata": {
        "colab_type": "code",
        "id": "b5w-Esa-0ODb",
        "colab": {}
      },
      "source": [
        "class Mixed_4c(nn.Module):\n",
        "    def __init__(self):\n",
        "        super(Mixed_4c, self).__init__()\n",
        " \n",
        "        self.branch0 = nn.Sequential(\n",
        "            BasicConv3d(512, 160, kernel_size=1, stride=1),\n",
        "        )\n",
        "        self.branch1 = nn.Sequential(\n",
        "            BasicConv3d(512, 112, kernel_size=1, stride=1),\n",
        "            SepConv3d(112, 224, kernel_size=3, stride=1, padding=1),\n",
        "        )\n",
        "        self.branch2 = nn.Sequential(\n",
        "            BasicConv3d(512, 24, kernel_size=1, stride=1),\n",
        "            SepConv3d(24, 64, kernel_size=3, stride=1, padding=1),\n",
        "        )\n",
        "        self.branch3 = nn.Sequential(\n",
        "            nn.MaxPool3d(kernel_size=(3,3,3), stride=1, padding=1),\n",
        "            BasicConv3d(512, 64, kernel_size=1, stride=1),\n",
        "        )\n",
        " \n",
        "    def forward(self, x):\n",
        "        x0 = self.branch0(x)\n",
        "        x1 = self.branch1(x)\n",
        "        x2 = self.branch2(x)\n",
        "        x3 = self.branch3(x)\n",
        "        out = torch.cat((x0, x1, x2, x3), 1)\n",
        "        return out"
      ],
      "execution_count": null,
      "outputs": []
    },
    {
      "cell_type": "code",
      "metadata": {
        "colab_type": "code",
        "id": "eCf8od5i0T2r",
        "colab": {}
      },
      "source": [
        "class Mixed_4d(nn.Module):\n",
        "    def __init__(self):\n",
        "        super(Mixed_4d, self).__init__()\n",
        " \n",
        "        self.branch0 = nn.Sequential(\n",
        "            BasicConv3d(512, 128, kernel_size=1, stride=1),\n",
        "        )\n",
        "        self.branch1 = nn.Sequential(\n",
        "            BasicConv3d(512, 128, kernel_size=1, stride=1),\n",
        "            SepConv3d(128, 256, kernel_size=3, stride=1, padding=1),\n",
        "        )\n",
        "        self.branch2 = nn.Sequential(\n",
        "            BasicConv3d(512, 24, kernel_size=1, stride=1),\n",
        "            SepConv3d(24, 64, kernel_size=3, stride=1, padding=1),\n",
        "        )\n",
        "        self.branch3 = nn.Sequential(\n",
        "            nn.MaxPool3d(kernel_size=(3,3,3), stride=1, padding=1),\n",
        "            BasicConv3d(512, 64, kernel_size=1, stride=1),\n",
        "        )\n",
        " \n",
        "    def forward(self, x):\n",
        "        x0 = self.branch0(x)\n",
        "        x1 = self.branch1(x)\n",
        "        x2 = self.branch2(x)\n",
        "        x3 = self.branch3(x)\n",
        "        out = torch.cat((x0, x1, x2, x3), 1)\n",
        "        return out\n",
        " "
      ],
      "execution_count": null,
      "outputs": []
    },
    {
      "cell_type": "code",
      "metadata": {
        "colab_type": "code",
        "id": "wvwlmF-i0XHz",
        "colab": {}
      },
      "source": [
        "class Mixed_4e(nn.Module):\n",
        "    def __init__(self):\n",
        "        super(Mixed_4e, self).__init__()\n",
        " \n",
        "        self.branch0 = nn.Sequential(\n",
        "            BasicConv3d(512, 112, kernel_size=1, stride=1),\n",
        "        )\n",
        "        self.branch1 = nn.Sequential(\n",
        "            BasicConv3d(512, 144, kernel_size=1, stride=1),\n",
        "            SepConv3d(144, 288, kernel_size=3, stride=1, padding=1),\n",
        "        )\n",
        "        self.branch2 = nn.Sequential(\n",
        "            BasicConv3d(512, 32, kernel_size=1, stride=1),\n",
        "            SepConv3d(32, 64, kernel_size=3, stride=1, padding=1),\n",
        "        )\n",
        "        self.branch3 = nn.Sequential(\n",
        "            nn.MaxPool3d(kernel_size=(3,3,3), stride=1, padding=1),\n",
        "            BasicConv3d(512, 64, kernel_size=1, stride=1),\n",
        "        )\n",
        " \n",
        "    def forward(self, x):\n",
        "        x0 = self.branch0(x)\n",
        "        x1 = self.branch1(x)\n",
        "        x2 = self.branch2(x)\n",
        "        x3 = self.branch3(x)\n",
        "        out = torch.cat((x0, x1, x2, x3), 1)\n",
        "        return out\n",
        " "
      ],
      "execution_count": null,
      "outputs": []
    },
    {
      "cell_type": "code",
      "metadata": {
        "colab_type": "code",
        "id": "LtR0R9o90akr",
        "colab": {}
      },
      "source": [
        "class Mixed_4f(nn.Module):\n",
        "    def __init__(self):\n",
        "        super(Mixed_4f, self).__init__()\n",
        " \n",
        "        self.branch0 = nn.Sequential(\n",
        "            BasicConv3d(528, 256, kernel_size=1, stride=1),\n",
        "        )\n",
        "        self.branch1 = nn.Sequential(\n",
        "            BasicConv3d(528, 160, kernel_size=1, stride=1),\n",
        "            SepConv3d(160, 320, kernel_size=3, stride=1, padding=1),\n",
        "        )\n",
        "        self.branch2 = nn.Sequential(\n",
        "            BasicConv3d(528, 32, kernel_size=1, stride=1),\n",
        "            SepConv3d(32, 128, kernel_size=3, stride=1, padding=1),\n",
        "        )\n",
        "        self.branch3 = nn.Sequential(\n",
        "            nn.MaxPool3d(kernel_size=(3,3,3), stride=1, padding=1),\n",
        "            BasicConv3d(528, 128, kernel_size=1, stride=1),\n",
        "        )\n",
        " \n",
        "    def forward(self, x):\n",
        "        x0 = self.branch0(x)\n",
        "        x1 = self.branch1(x)\n",
        "        x2 = self.branch2(x)\n",
        "        x3 = self.branch3(x)\n",
        "        out = torch.cat((x0, x1, x2, x3), 1)\n",
        "        return out"
      ],
      "execution_count": null,
      "outputs": []
    },
    {
      "cell_type": "code",
      "metadata": {
        "colab_type": "code",
        "id": "LB4r1mpo0gHr",
        "colab": {}
      },
      "source": [
        "class Mixed_5b(nn.Module):\n",
        "    def __init__(self):\n",
        "        super(Mixed_5b, self).__init__()\n",
        " \n",
        "        self.branch0 = nn.Sequential(\n",
        "            BasicConv3d(832, 256, kernel_size=1, stride=1),\n",
        "        )\n",
        "        self.branch1 = nn.Sequential(\n",
        "            BasicConv3d(832, 160, kernel_size=1, stride=1),\n",
        "            SepConv3d(160, 320, kernel_size=3, stride=1, padding=1),\n",
        "        )\n",
        "        self.branch2 = nn.Sequential(\n",
        "            BasicConv3d(832, 32, kernel_size=1, stride=1),\n",
        "            SepConv3d(32, 128, kernel_size=3, stride=1, padding=1),\n",
        "        )\n",
        "        self.branch3 = nn.Sequential(\n",
        "            nn.MaxPool3d(kernel_size=(3,3,3), stride=1, padding=1),\n",
        "            BasicConv3d(832, 128, kernel_size=1, stride=1),\n",
        "        )\n",
        " \n",
        "    def forward(self, x):\n",
        "        x0 = self.branch0(x)\n",
        "        x1 = self.branch1(x)\n",
        "        x2 = self.branch2(x)\n",
        "        x3 = self.branch3(x)\n",
        "        out = torch.cat((x0, x1, x2, x3), 1)\n",
        "        return out\n",
        " "
      ],
      "execution_count": null,
      "outputs": []
    },
    {
      "cell_type": "code",
      "metadata": {
        "colab_type": "code",
        "id": "c4-rT9A70iB1",
        "colab": {}
      },
      "source": [
        "class Mixed_5c(nn.Module):\n",
        "    def __init__(self):\n",
        "        super(Mixed_5c, self).__init__()\n",
        " \n",
        "        self.branch0 = nn.Sequential(\n",
        "            BasicConv3d(832, 384, kernel_size=1, stride=1),\n",
        "        )\n",
        "        self.branch1 = nn.Sequential(\n",
        "            BasicConv3d(832, 192, kernel_size=1, stride=1),\n",
        "            SepConv3d(192, 384, kernel_size=3, stride=1, padding=1),\n",
        "        )\n",
        "        self.branch2 = nn.Sequential(\n",
        "            BasicConv3d(832, 48, kernel_size=1, stride=1),\n",
        "            SepConv3d(48, 128, kernel_size=3, stride=1, padding=1),\n",
        "        )\n",
        "        self.branch3 = nn.Sequential(\n",
        "            nn.MaxPool3d(kernel_size=(3,3,3), stride=1, padding=1),\n",
        "            BasicConv3d(832, 128, kernel_size=1, stride=1),\n",
        "        )\n",
        " \n",
        "    def forward(self, x):\n",
        "        x0 = self.branch0(x)\n",
        "        x1 = self.branch1(x)\n",
        "        x2 = self.branch2(x)\n",
        "        x3 = self.branch3(x)\n",
        "        out = torch.cat((x0, x1, x2, x3), 1)\n",
        "        return out"
      ],
      "execution_count": null,
      "outputs": []
    },
    {
      "cell_type": "code",
      "metadata": {
        "colab_type": "code",
        "id": "8VHcY61g0ptj",
        "colab": {
          "base_uri": "https://localhost:8080/",
          "height": 1000
        },
        "outputId": "27169ef3-8983-4487-b9cd-3909f4347c14"
      },
      "source": [
        "from torchsummary import summary\n",
        "summary(S3D(10).cuda(), (3,16, 176, 128))\n"
      ],
      "execution_count": null,
      "outputs": [
        {
          "output_type": "stream",
          "text": [
            "----------------------------------------------------------------\n",
            "        Layer (type)               Output Shape         Param #\n",
            "================================================================\n",
            "            Conv3d-1       [-1, 64, 16, 88, 64]           9,408\n",
            "       BatchNorm3d-2       [-1, 64, 16, 88, 64]             128\n",
            "              ReLU-3       [-1, 64, 16, 88, 64]               0\n",
            "            Conv3d-4        [-1, 64, 8, 88, 64]          28,672\n",
            "       BatchNorm3d-5        [-1, 64, 8, 88, 64]             128\n",
            "              ReLU-6        [-1, 64, 8, 88, 64]               0\n",
            "         SepConv3d-7        [-1, 64, 8, 88, 64]               0\n",
            "         MaxPool3d-8        [-1, 64, 8, 44, 32]               0\n",
            "            Conv3d-9        [-1, 64, 8, 44, 32]           4,096\n",
            "      BatchNorm3d-10        [-1, 64, 8, 44, 32]             128\n",
            "             ReLU-11        [-1, 64, 8, 44, 32]               0\n",
            "      BasicConv3d-12        [-1, 64, 8, 44, 32]               0\n",
            "           Conv3d-13       [-1, 192, 8, 44, 32]         110,592\n",
            "      BatchNorm3d-14       [-1, 192, 8, 44, 32]             384\n",
            "             ReLU-15       [-1, 192, 8, 44, 32]               0\n",
            "           Conv3d-16       [-1, 192, 8, 44, 32]         110,592\n",
            "      BatchNorm3d-17       [-1, 192, 8, 44, 32]             384\n",
            "             ReLU-18       [-1, 192, 8, 44, 32]               0\n",
            "        SepConv3d-19       [-1, 192, 8, 44, 32]               0\n",
            "        MaxPool3d-20       [-1, 192, 8, 22, 16]               0\n",
            "           Conv3d-21        [-1, 64, 8, 22, 16]          12,288\n",
            "      BatchNorm3d-22        [-1, 64, 8, 22, 16]             128\n",
            "             ReLU-23        [-1, 64, 8, 22, 16]               0\n",
            "      BasicConv3d-24        [-1, 64, 8, 22, 16]               0\n",
            "           Conv3d-25        [-1, 96, 8, 22, 16]          18,432\n",
            "      BatchNorm3d-26        [-1, 96, 8, 22, 16]             192\n",
            "             ReLU-27        [-1, 96, 8, 22, 16]               0\n",
            "      BasicConv3d-28        [-1, 96, 8, 22, 16]               0\n",
            "           Conv3d-29       [-1, 128, 8, 22, 16]         110,592\n",
            "      BatchNorm3d-30       [-1, 128, 8, 22, 16]             256\n",
            "             ReLU-31       [-1, 128, 8, 22, 16]               0\n",
            "           Conv3d-32       [-1, 128, 8, 22, 16]          49,152\n",
            "      BatchNorm3d-33       [-1, 128, 8, 22, 16]             256\n",
            "             ReLU-34       [-1, 128, 8, 22, 16]               0\n",
            "        SepConv3d-35       [-1, 128, 8, 22, 16]               0\n",
            "           Conv3d-36        [-1, 16, 8, 22, 16]           3,072\n",
            "      BatchNorm3d-37        [-1, 16, 8, 22, 16]              32\n",
            "             ReLU-38        [-1, 16, 8, 22, 16]               0\n",
            "      BasicConv3d-39        [-1, 16, 8, 22, 16]               0\n",
            "           Conv3d-40        [-1, 32, 8, 22, 16]           4,608\n",
            "      BatchNorm3d-41        [-1, 32, 8, 22, 16]              64\n",
            "             ReLU-42        [-1, 32, 8, 22, 16]               0\n",
            "           Conv3d-43        [-1, 32, 8, 22, 16]           3,072\n",
            "      BatchNorm3d-44        [-1, 32, 8, 22, 16]              64\n",
            "             ReLU-45        [-1, 32, 8, 22, 16]               0\n",
            "        SepConv3d-46        [-1, 32, 8, 22, 16]               0\n",
            "        MaxPool3d-47       [-1, 192, 8, 22, 16]               0\n",
            "           Conv3d-48        [-1, 32, 8, 22, 16]           6,144\n",
            "      BatchNorm3d-49        [-1, 32, 8, 22, 16]              64\n",
            "             ReLU-50        [-1, 32, 8, 22, 16]               0\n",
            "      BasicConv3d-51        [-1, 32, 8, 22, 16]               0\n",
            "         Mixed_3b-52       [-1, 256, 8, 22, 16]               0\n",
            "           Conv3d-53       [-1, 128, 8, 22, 16]          32,768\n",
            "      BatchNorm3d-54       [-1, 128, 8, 22, 16]             256\n",
            "             ReLU-55       [-1, 128, 8, 22, 16]               0\n",
            "      BasicConv3d-56       [-1, 128, 8, 22, 16]               0\n",
            "           Conv3d-57       [-1, 128, 8, 22, 16]          32,768\n",
            "      BatchNorm3d-58       [-1, 128, 8, 22, 16]             256\n",
            "             ReLU-59       [-1, 128, 8, 22, 16]               0\n",
            "      BasicConv3d-60       [-1, 128, 8, 22, 16]               0\n",
            "           Conv3d-61       [-1, 192, 8, 22, 16]         221,184\n",
            "      BatchNorm3d-62       [-1, 192, 8, 22, 16]             384\n",
            "             ReLU-63       [-1, 192, 8, 22, 16]               0\n",
            "           Conv3d-64       [-1, 192, 8, 22, 16]         110,592\n",
            "      BatchNorm3d-65       [-1, 192, 8, 22, 16]             384\n",
            "             ReLU-66       [-1, 192, 8, 22, 16]               0\n",
            "        SepConv3d-67       [-1, 192, 8, 22, 16]               0\n",
            "           Conv3d-68        [-1, 32, 8, 22, 16]           8,192\n",
            "      BatchNorm3d-69        [-1, 32, 8, 22, 16]              64\n",
            "             ReLU-70        [-1, 32, 8, 22, 16]               0\n",
            "      BasicConv3d-71        [-1, 32, 8, 22, 16]               0\n",
            "           Conv3d-72        [-1, 96, 8, 22, 16]          27,648\n",
            "      BatchNorm3d-73        [-1, 96, 8, 22, 16]             192\n",
            "             ReLU-74        [-1, 96, 8, 22, 16]               0\n",
            "           Conv3d-75        [-1, 96, 8, 22, 16]          27,648\n",
            "      BatchNorm3d-76        [-1, 96, 8, 22, 16]             192\n",
            "             ReLU-77        [-1, 96, 8, 22, 16]               0\n",
            "        SepConv3d-78        [-1, 96, 8, 22, 16]               0\n",
            "        MaxPool3d-79       [-1, 256, 8, 22, 16]               0\n",
            "           Conv3d-80        [-1, 64, 8, 22, 16]          16,384\n",
            "      BatchNorm3d-81        [-1, 64, 8, 22, 16]             128\n",
            "             ReLU-82        [-1, 64, 8, 22, 16]               0\n",
            "      BasicConv3d-83        [-1, 64, 8, 22, 16]               0\n",
            "         Mixed_3c-84       [-1, 480, 8, 22, 16]               0\n",
            "        MaxPool3d-85        [-1, 480, 4, 11, 8]               0\n",
            "           Conv3d-86        [-1, 192, 4, 11, 8]          92,160\n",
            "      BatchNorm3d-87        [-1, 192, 4, 11, 8]             384\n",
            "             ReLU-88        [-1, 192, 4, 11, 8]               0\n",
            "      BasicConv3d-89        [-1, 192, 4, 11, 8]               0\n",
            "           Conv3d-90         [-1, 96, 4, 11, 8]          46,080\n",
            "      BatchNorm3d-91         [-1, 96, 4, 11, 8]             192\n",
            "             ReLU-92         [-1, 96, 4, 11, 8]               0\n",
            "      BasicConv3d-93         [-1, 96, 4, 11, 8]               0\n",
            "           Conv3d-94        [-1, 208, 4, 11, 8]         179,712\n",
            "      BatchNorm3d-95        [-1, 208, 4, 11, 8]             416\n",
            "             ReLU-96        [-1, 208, 4, 11, 8]               0\n",
            "           Conv3d-97        [-1, 208, 4, 11, 8]         129,792\n",
            "      BatchNorm3d-98        [-1, 208, 4, 11, 8]             416\n",
            "             ReLU-99        [-1, 208, 4, 11, 8]               0\n",
            "       SepConv3d-100        [-1, 208, 4, 11, 8]               0\n",
            "          Conv3d-101         [-1, 16, 4, 11, 8]           7,680\n",
            "     BatchNorm3d-102         [-1, 16, 4, 11, 8]              32\n",
            "            ReLU-103         [-1, 16, 4, 11, 8]               0\n",
            "     BasicConv3d-104         [-1, 16, 4, 11, 8]               0\n",
            "          Conv3d-105         [-1, 48, 4, 11, 8]           6,912\n",
            "     BatchNorm3d-106         [-1, 48, 4, 11, 8]              96\n",
            "            ReLU-107         [-1, 48, 4, 11, 8]               0\n",
            "          Conv3d-108         [-1, 48, 4, 11, 8]           6,912\n",
            "     BatchNorm3d-109         [-1, 48, 4, 11, 8]              96\n",
            "            ReLU-110         [-1, 48, 4, 11, 8]               0\n",
            "       SepConv3d-111         [-1, 48, 4, 11, 8]               0\n",
            "       MaxPool3d-112        [-1, 480, 4, 11, 8]               0\n",
            "          Conv3d-113         [-1, 64, 4, 11, 8]          30,720\n",
            "     BatchNorm3d-114         [-1, 64, 4, 11, 8]             128\n",
            "            ReLU-115         [-1, 64, 4, 11, 8]               0\n",
            "     BasicConv3d-116         [-1, 64, 4, 11, 8]               0\n",
            "        Mixed_4b-117        [-1, 512, 4, 11, 8]               0\n",
            "          Conv3d-118        [-1, 160, 4, 11, 8]          81,920\n",
            "     BatchNorm3d-119        [-1, 160, 4, 11, 8]             320\n",
            "            ReLU-120        [-1, 160, 4, 11, 8]               0\n",
            "     BasicConv3d-121        [-1, 160, 4, 11, 8]               0\n",
            "          Conv3d-122        [-1, 112, 4, 11, 8]          57,344\n",
            "     BatchNorm3d-123        [-1, 112, 4, 11, 8]             224\n",
            "            ReLU-124        [-1, 112, 4, 11, 8]               0\n",
            "     BasicConv3d-125        [-1, 112, 4, 11, 8]               0\n",
            "          Conv3d-126        [-1, 224, 4, 11, 8]         225,792\n",
            "     BatchNorm3d-127        [-1, 224, 4, 11, 8]             448\n",
            "            ReLU-128        [-1, 224, 4, 11, 8]               0\n",
            "          Conv3d-129        [-1, 224, 4, 11, 8]         150,528\n",
            "     BatchNorm3d-130        [-1, 224, 4, 11, 8]             448\n",
            "            ReLU-131        [-1, 224, 4, 11, 8]               0\n",
            "       SepConv3d-132        [-1, 224, 4, 11, 8]               0\n",
            "          Conv3d-133         [-1, 24, 4, 11, 8]          12,288\n",
            "     BatchNorm3d-134         [-1, 24, 4, 11, 8]              48\n",
            "            ReLU-135         [-1, 24, 4, 11, 8]               0\n",
            "     BasicConv3d-136         [-1, 24, 4, 11, 8]               0\n",
            "          Conv3d-137         [-1, 64, 4, 11, 8]          13,824\n",
            "     BatchNorm3d-138         [-1, 64, 4, 11, 8]             128\n",
            "            ReLU-139         [-1, 64, 4, 11, 8]               0\n",
            "          Conv3d-140         [-1, 64, 4, 11, 8]          12,288\n",
            "     BatchNorm3d-141         [-1, 64, 4, 11, 8]             128\n",
            "            ReLU-142         [-1, 64, 4, 11, 8]               0\n",
            "       SepConv3d-143         [-1, 64, 4, 11, 8]               0\n",
            "       MaxPool3d-144        [-1, 512, 4, 11, 8]               0\n",
            "          Conv3d-145         [-1, 64, 4, 11, 8]          32,768\n",
            "     BatchNorm3d-146         [-1, 64, 4, 11, 8]             128\n",
            "            ReLU-147         [-1, 64, 4, 11, 8]               0\n",
            "     BasicConv3d-148         [-1, 64, 4, 11, 8]               0\n",
            "        Mixed_4c-149        [-1, 512, 4, 11, 8]               0\n",
            "          Conv3d-150        [-1, 128, 4, 11, 8]          65,536\n",
            "     BatchNorm3d-151        [-1, 128, 4, 11, 8]             256\n",
            "            ReLU-152        [-1, 128, 4, 11, 8]               0\n",
            "     BasicConv3d-153        [-1, 128, 4, 11, 8]               0\n",
            "          Conv3d-154        [-1, 128, 4, 11, 8]          65,536\n",
            "     BatchNorm3d-155        [-1, 128, 4, 11, 8]             256\n",
            "            ReLU-156        [-1, 128, 4, 11, 8]               0\n",
            "     BasicConv3d-157        [-1, 128, 4, 11, 8]               0\n",
            "          Conv3d-158        [-1, 256, 4, 11, 8]         294,912\n",
            "     BatchNorm3d-159        [-1, 256, 4, 11, 8]             512\n",
            "            ReLU-160        [-1, 256, 4, 11, 8]               0\n",
            "          Conv3d-161        [-1, 256, 4, 11, 8]         196,608\n",
            "     BatchNorm3d-162        [-1, 256, 4, 11, 8]             512\n",
            "            ReLU-163        [-1, 256, 4, 11, 8]               0\n",
            "       SepConv3d-164        [-1, 256, 4, 11, 8]               0\n",
            "          Conv3d-165         [-1, 24, 4, 11, 8]          12,288\n",
            "     BatchNorm3d-166         [-1, 24, 4, 11, 8]              48\n",
            "            ReLU-167         [-1, 24, 4, 11, 8]               0\n",
            "     BasicConv3d-168         [-1, 24, 4, 11, 8]               0\n",
            "          Conv3d-169         [-1, 64, 4, 11, 8]          13,824\n",
            "     BatchNorm3d-170         [-1, 64, 4, 11, 8]             128\n",
            "            ReLU-171         [-1, 64, 4, 11, 8]               0\n",
            "          Conv3d-172         [-1, 64, 4, 11, 8]          12,288\n",
            "     BatchNorm3d-173         [-1, 64, 4, 11, 8]             128\n",
            "            ReLU-174         [-1, 64, 4, 11, 8]               0\n",
            "       SepConv3d-175         [-1, 64, 4, 11, 8]               0\n",
            "       MaxPool3d-176        [-1, 512, 4, 11, 8]               0\n",
            "          Conv3d-177         [-1, 64, 4, 11, 8]          32,768\n",
            "     BatchNorm3d-178         [-1, 64, 4, 11, 8]             128\n",
            "            ReLU-179         [-1, 64, 4, 11, 8]               0\n",
            "     BasicConv3d-180         [-1, 64, 4, 11, 8]               0\n",
            "        Mixed_4d-181        [-1, 512, 4, 11, 8]               0\n",
            "          Conv3d-182        [-1, 112, 4, 11, 8]          57,344\n",
            "     BatchNorm3d-183        [-1, 112, 4, 11, 8]             224\n",
            "            ReLU-184        [-1, 112, 4, 11, 8]               0\n",
            "     BasicConv3d-185        [-1, 112, 4, 11, 8]               0\n",
            "          Conv3d-186        [-1, 144, 4, 11, 8]          73,728\n",
            "     BatchNorm3d-187        [-1, 144, 4, 11, 8]             288\n",
            "            ReLU-188        [-1, 144, 4, 11, 8]               0\n",
            "     BasicConv3d-189        [-1, 144, 4, 11, 8]               0\n",
            "          Conv3d-190        [-1, 288, 4, 11, 8]         373,248\n",
            "     BatchNorm3d-191        [-1, 288, 4, 11, 8]             576\n",
            "            ReLU-192        [-1, 288, 4, 11, 8]               0\n",
            "          Conv3d-193        [-1, 288, 4, 11, 8]         248,832\n",
            "     BatchNorm3d-194        [-1, 288, 4, 11, 8]             576\n",
            "            ReLU-195        [-1, 288, 4, 11, 8]               0\n",
            "       SepConv3d-196        [-1, 288, 4, 11, 8]               0\n",
            "          Conv3d-197         [-1, 32, 4, 11, 8]          16,384\n",
            "     BatchNorm3d-198         [-1, 32, 4, 11, 8]              64\n",
            "            ReLU-199         [-1, 32, 4, 11, 8]               0\n",
            "     BasicConv3d-200         [-1, 32, 4, 11, 8]               0\n",
            "          Conv3d-201         [-1, 64, 4, 11, 8]          18,432\n",
            "     BatchNorm3d-202         [-1, 64, 4, 11, 8]             128\n",
            "            ReLU-203         [-1, 64, 4, 11, 8]               0\n",
            "          Conv3d-204         [-1, 64, 4, 11, 8]          12,288\n",
            "     BatchNorm3d-205         [-1, 64, 4, 11, 8]             128\n",
            "            ReLU-206         [-1, 64, 4, 11, 8]               0\n",
            "       SepConv3d-207         [-1, 64, 4, 11, 8]               0\n",
            "       MaxPool3d-208        [-1, 512, 4, 11, 8]               0\n",
            "          Conv3d-209         [-1, 64, 4, 11, 8]          32,768\n",
            "     BatchNorm3d-210         [-1, 64, 4, 11, 8]             128\n",
            "            ReLU-211         [-1, 64, 4, 11, 8]               0\n",
            "     BasicConv3d-212         [-1, 64, 4, 11, 8]               0\n",
            "        Mixed_4e-213        [-1, 528, 4, 11, 8]               0\n",
            "          Conv3d-214        [-1, 256, 4, 11, 8]         135,168\n",
            "     BatchNorm3d-215        [-1, 256, 4, 11, 8]             512\n",
            "            ReLU-216        [-1, 256, 4, 11, 8]               0\n",
            "     BasicConv3d-217        [-1, 256, 4, 11, 8]               0\n",
            "          Conv3d-218        [-1, 160, 4, 11, 8]          84,480\n",
            "     BatchNorm3d-219        [-1, 160, 4, 11, 8]             320\n",
            "            ReLU-220        [-1, 160, 4, 11, 8]               0\n",
            "     BasicConv3d-221        [-1, 160, 4, 11, 8]               0\n",
            "          Conv3d-222        [-1, 320, 4, 11, 8]         460,800\n",
            "     BatchNorm3d-223        [-1, 320, 4, 11, 8]             640\n",
            "            ReLU-224        [-1, 320, 4, 11, 8]               0\n",
            "          Conv3d-225        [-1, 320, 4, 11, 8]         307,200\n",
            "     BatchNorm3d-226        [-1, 320, 4, 11, 8]             640\n",
            "            ReLU-227        [-1, 320, 4, 11, 8]               0\n",
            "       SepConv3d-228        [-1, 320, 4, 11, 8]               0\n",
            "          Conv3d-229         [-1, 32, 4, 11, 8]          16,896\n",
            "     BatchNorm3d-230         [-1, 32, 4, 11, 8]              64\n",
            "            ReLU-231         [-1, 32, 4, 11, 8]               0\n",
            "     BasicConv3d-232         [-1, 32, 4, 11, 8]               0\n",
            "          Conv3d-233        [-1, 128, 4, 11, 8]          36,864\n",
            "     BatchNorm3d-234        [-1, 128, 4, 11, 8]             256\n",
            "            ReLU-235        [-1, 128, 4, 11, 8]               0\n",
            "          Conv3d-236        [-1, 128, 4, 11, 8]          49,152\n",
            "     BatchNorm3d-237        [-1, 128, 4, 11, 8]             256\n",
            "            ReLU-238        [-1, 128, 4, 11, 8]               0\n",
            "       SepConv3d-239        [-1, 128, 4, 11, 8]               0\n",
            "       MaxPool3d-240        [-1, 528, 4, 11, 8]               0\n",
            "          Conv3d-241        [-1, 128, 4, 11, 8]          67,584\n",
            "     BatchNorm3d-242        [-1, 128, 4, 11, 8]             256\n",
            "            ReLU-243        [-1, 128, 4, 11, 8]               0\n",
            "     BasicConv3d-244        [-1, 128, 4, 11, 8]               0\n",
            "        Mixed_4f-245        [-1, 832, 4, 11, 8]               0\n",
            "       MaxPool3d-246         [-1, 832, 2, 5, 4]               0\n",
            "          Conv3d-247         [-1, 256, 2, 5, 4]         212,992\n",
            "     BatchNorm3d-248         [-1, 256, 2, 5, 4]             512\n",
            "            ReLU-249         [-1, 256, 2, 5, 4]               0\n",
            "     BasicConv3d-250         [-1, 256, 2, 5, 4]               0\n",
            "          Conv3d-251         [-1, 160, 2, 5, 4]         133,120\n",
            "     BatchNorm3d-252         [-1, 160, 2, 5, 4]             320\n",
            "            ReLU-253         [-1, 160, 2, 5, 4]               0\n",
            "     BasicConv3d-254         [-1, 160, 2, 5, 4]               0\n",
            "          Conv3d-255         [-1, 320, 2, 5, 4]         460,800\n",
            "     BatchNorm3d-256         [-1, 320, 2, 5, 4]             640\n",
            "            ReLU-257         [-1, 320, 2, 5, 4]               0\n",
            "          Conv3d-258         [-1, 320, 2, 5, 4]         307,200\n",
            "     BatchNorm3d-259         [-1, 320, 2, 5, 4]             640\n",
            "            ReLU-260         [-1, 320, 2, 5, 4]               0\n",
            "       SepConv3d-261         [-1, 320, 2, 5, 4]               0\n",
            "          Conv3d-262          [-1, 32, 2, 5, 4]          26,624\n",
            "     BatchNorm3d-263          [-1, 32, 2, 5, 4]              64\n",
            "            ReLU-264          [-1, 32, 2, 5, 4]               0\n",
            "     BasicConv3d-265          [-1, 32, 2, 5, 4]               0\n",
            "          Conv3d-266         [-1, 128, 2, 5, 4]          36,864\n",
            "     BatchNorm3d-267         [-1, 128, 2, 5, 4]             256\n",
            "            ReLU-268         [-1, 128, 2, 5, 4]               0\n",
            "          Conv3d-269         [-1, 128, 2, 5, 4]          49,152\n",
            "     BatchNorm3d-270         [-1, 128, 2, 5, 4]             256\n",
            "            ReLU-271         [-1, 128, 2, 5, 4]               0\n",
            "       SepConv3d-272         [-1, 128, 2, 5, 4]               0\n",
            "       MaxPool3d-273         [-1, 832, 2, 5, 4]               0\n",
            "          Conv3d-274         [-1, 128, 2, 5, 4]         106,496\n",
            "     BatchNorm3d-275         [-1, 128, 2, 5, 4]             256\n",
            "            ReLU-276         [-1, 128, 2, 5, 4]               0\n",
            "     BasicConv3d-277         [-1, 128, 2, 5, 4]               0\n",
            "        Mixed_5b-278         [-1, 832, 2, 5, 4]               0\n",
            "          Conv3d-279         [-1, 384, 2, 5, 4]         319,488\n",
            "     BatchNorm3d-280         [-1, 384, 2, 5, 4]             768\n",
            "            ReLU-281         [-1, 384, 2, 5, 4]               0\n",
            "     BasicConv3d-282         [-1, 384, 2, 5, 4]               0\n",
            "          Conv3d-283         [-1, 192, 2, 5, 4]         159,744\n",
            "     BatchNorm3d-284         [-1, 192, 2, 5, 4]             384\n",
            "            ReLU-285         [-1, 192, 2, 5, 4]               0\n",
            "     BasicConv3d-286         [-1, 192, 2, 5, 4]               0\n",
            "          Conv3d-287         [-1, 384, 2, 5, 4]         663,552\n",
            "     BatchNorm3d-288         [-1, 384, 2, 5, 4]             768\n",
            "            ReLU-289         [-1, 384, 2, 5, 4]               0\n",
            "          Conv3d-290         [-1, 384, 2, 5, 4]         442,368\n",
            "     BatchNorm3d-291         [-1, 384, 2, 5, 4]             768\n",
            "            ReLU-292         [-1, 384, 2, 5, 4]               0\n",
            "       SepConv3d-293         [-1, 384, 2, 5, 4]               0\n",
            "          Conv3d-294          [-1, 48, 2, 5, 4]          39,936\n",
            "     BatchNorm3d-295          [-1, 48, 2, 5, 4]              96\n",
            "            ReLU-296          [-1, 48, 2, 5, 4]               0\n",
            "     BasicConv3d-297          [-1, 48, 2, 5, 4]               0\n",
            "          Conv3d-298         [-1, 128, 2, 5, 4]          55,296\n",
            "     BatchNorm3d-299         [-1, 128, 2, 5, 4]             256\n",
            "            ReLU-300         [-1, 128, 2, 5, 4]               0\n",
            "          Conv3d-301         [-1, 128, 2, 5, 4]          49,152\n",
            "     BatchNorm3d-302         [-1, 128, 2, 5, 4]             256\n",
            "            ReLU-303         [-1, 128, 2, 5, 4]               0\n",
            "       SepConv3d-304         [-1, 128, 2, 5, 4]               0\n",
            "       MaxPool3d-305         [-1, 832, 2, 5, 4]               0\n",
            "          Conv3d-306         [-1, 128, 2, 5, 4]         106,496\n",
            "     BatchNorm3d-307         [-1, 128, 2, 5, 4]             256\n",
            "            ReLU-308         [-1, 128, 2, 5, 4]               0\n",
            "     BasicConv3d-309         [-1, 128, 2, 5, 4]               0\n",
            "        Mixed_5c-310        [-1, 1024, 2, 5, 4]               0\n",
            "          Conv3d-311          [-1, 10, 1, 1, 1]          10,250\n",
            "================================================================\n",
            "Total params: 7,920,298\n",
            "Trainable params: 7,920,298\n",
            "Non-trainable params: 0\n",
            "----------------------------------------------------------------\n",
            "Input size (MB): 4.12\n",
            "Forward/backward pass size (MB): 581.73\n",
            "Params size (MB): 30.21\n",
            "Estimated Total Size (MB): 616.07\n",
            "----------------------------------------------------------------\n"
          ],
          "name": "stdout"
        }
      ]
    },
    {
      "cell_type": "code",
      "metadata": {
        "id": "FR7g9zk6V7bd",
        "colab_type": "code",
        "colab": {}
      },
      "source": [
        "from PIL import Image\n",
        "import torchvision.transforms as T\n",
        "import albumentations\n",
        "from skimage.io import imread\n",
        "from skimage.transform import resize\n",
        "\n",
        "def augmentation(aug,frame):\n",
        "  frame=aug(image=np.array(frame))['image']\n",
        "  return frame\n",
        "\n",
        "class MyDataLoader(Dataset):\n",
        "  def __init__(self,X,y,root_dir,par,transform=None):\n",
        "    self.X=X\n",
        "    self.y=y\n",
        "    self.root_dir=root_dir\n",
        "    self.transform=T.ToTensor()\n",
        "    self.par=par\n",
        "    if (par==1):\n",
        "      self.aug = albumentations.Compose([\n",
        "                albumentations.HorizontalFlip(p=0.5),\n",
        "                albumentations.ShiftScaleRotate(\n",
        "                    shift_limit=0.3,\n",
        "                    scale_limit=0.3,\n",
        "                    rotate_limit=15,\n",
        "                    p=0.5\n",
        "                ),\n",
        "                albumentations.augmentations.transforms.RandomBrightnessContrast(p=0.5),\n",
        "                albumentations.augmentations.transforms.Normalize(mean=(0.485, 0.456, 0.406), std=(0.229, 0.224, 0.225), max_pixel_value=255.0, always_apply=False, p=1.0)\n",
        "                \n",
        "            ])\n",
        "    else:\n",
        "      self.aug = albumentations.Compose([\n",
        "                albumentations.augmentations.transforms.Normalize(mean=(0.485, 0.456, 0.406), std=(0.229, 0.224, 0.225), max_pixel_value=255.0, always_apply=False, p=1.0)\n",
        "                \n",
        "            ])\n",
        "    self.ok=[]\n",
        "    self.okLab=[]\n",
        "    return\n",
        "\n",
        "  def __len__(self):\n",
        "    return len(self.X)\n",
        "  \n",
        "  def __getitem__(self,index):\n",
        "    fname=self.root_dir+self.X[index]+\".mp4\"\n",
        "    self.ok.append(self.X[index])\n",
        "    self.okLab.append(self.y[index])\n",
        "    video=cv2.VideoCapture(fname)\n",
        "    image=[]\n",
        "    r,g,b=[],[],[]\n",
        "    while True:\n",
        "      # Capture frame-by-frame\n",
        "      ret , frame=video.read()\n",
        "      if ret:\n",
        "        frame= cv2.cvtColor(frame,cv2.COLOR_BGR2RGB)\n",
        "        frame= cv2.GaussianBlur(frame, (5, 5), 0)\n",
        "        frame=augmentation(self.aug,frame)\n",
        "        frame= self.transform(frame)\n",
        "        r1 = frame[0]\n",
        "        g1 = frame[1]\n",
        "        b1 = frame[2]\n",
        "        r1=r1.unsqueeze(0)\n",
        "        g1=g1.unsqueeze(0)\n",
        "        b1=b1.unsqueeze(0)\n",
        "        r.append(r1)\n",
        "        g.append(b1)\n",
        "        b.append(b1)\n",
        "      else:\n",
        "        break\n",
        "    r=torch.cat(r)\n",
        "    g=torch.cat(g)\n",
        "    b=torch.cat(b)\n",
        "    image=torch.stack((r,g,b),dim=0)\n",
        "    return image, self.y[index]\n",
        " \n"
      ],
      "execution_count": null,
      "outputs": []
    },
    {
      "cell_type": "code",
      "metadata": {
        "id": "PG-KsIr3CDvm",
        "colab_type": "code",
        "colab": {
          "base_uri": "https://localhost:8080/",
          "height": 287
        },
        "outputId": "87323e22-63d1-465f-8e61-6b3f4d7f795c"
      },
      "source": [
        "transform= torchvision.transforms.ToTensor()\n",
        "aug = albumentations.Compose([\n",
        "                albumentations.HorizontalFlip(p=0.5),\n",
        "                albumentations.ShiftScaleRotate(\n",
        "                    shift_limit=0.3,\n",
        "                    scale_limit=0.3,\n",
        "                    rotate_limit=15,\n",
        "                    p=0.5\n",
        "                ),\n",
        "                albumentations.augmentations.transforms.RandomBrightnessContrast(p=0.5),\n",
        "                albumentations.augmentations.transforms.Normalize(mean=(0.485, 0.456, 0.406), std=(0.229, 0.224, 0.225), max_pixel_value=255.0, always_apply=False, p=1.0)\n",
        "                \n",
        "            ])\n",
        "image = []\n",
        "r,g,b=[],[],[]          \n",
        "fname = os.path.join(DATASET_FILES, '0018414.mp4')\n",
        "video = cv2.VideoCapture(fname)\n",
        "while True:\n",
        "  ret , frame=video.read()\n",
        "  if ret:\n",
        "    frame= cv2.cvtColor(frame,cv2.COLOR_BGR2RGB)\n",
        "    frame= cv2.GaussianBlur(frame, (5, 5), 0)\n",
        "    frame=augmentation(aug,frame)\n",
        "    frame= transform(frame)\n",
        "    r1 = frame[0]\n",
        "    g1 = frame[1]\n",
        "    b1 = frame[2]\n",
        "    r1=r1.unsqueeze(0)\n",
        "    g1=g1.unsqueeze(0)\n",
        "    b1=b1.unsqueeze(0)\n",
        "    r.append(r1)\n",
        "    g.append(b1)\n",
        "    b.append(b1)\n",
        "  else:\n",
        "    break\n",
        "r=torch.cat(r)\n",
        "g=torch.cat(g)\n",
        "b=torch.cat(b)\n",
        "\n",
        "\n",
        "\n",
        "plt.subplot(221)\n",
        "plt.imshow(r[0].numpy())\n",
        "plt.subplot(222)\n",
        "plt.imshow(g[0].numpy())\n",
        "plt.subplot(223)\n",
        "plt.imshow(b[0].numpy())"
      ],
      "execution_count": null,
      "outputs": [
        {
          "output_type": "execute_result",
          "data": {
            "text/plain": [
              "<matplotlib.image.AxesImage at 0x7f1d8b2dba20>"
            ]
          },
          "metadata": {
            "tags": []
          },
          "execution_count": 140
        },
        {
          "output_type": "display_data",
          "data": {
            "image/png": "[encoded data removed]",
            "text/plain": [
              "<Figure size 432x288 with 3 Axes>"
            ]
          },
          "metadata": {
            "tags": [],
            "needs_background": "light"
          }
        }
      ]
    },
    {
      "cell_type": "code",
      "metadata": {
        "id": "29Y4kBdFM6oW",
        "colab_type": "code",
        "colab": {}
      },
      "source": [
        "def train(epoch,steps,print_every,trainLoader,s):#\n",
        "    train_loss=[]\n",
        "    running_loss = 0\n",
        " \n",
        "    for batch_idx, (inputs, labels) in enumerate(trainLoader): \n",
        "        inputs,labels= inputs.to(device), labels.to(device)\n",
        "        logps = model(inputs)\n",
        "        loss = criterion(logps, labels)\n",
        "        optimizer.zero_grad()\n",
        "        loss.backward()\n",
        "        optimizer.step()\n",
        "        running_loss += loss.item()\n",
        "        \n",
        "        if (batch_idx+1) % print_every == 0:\n",
        "            s.append('Epoch [{}/{}], Step [{}/{}], Loss: {:.6f}' \n",
        "                   .format(epoch, epochs, batch_idx+1, steps, running_loss/(batch_idx*batch_size) ))\n",
        "            print('Epoch [{}/{}], Step [{}/{}], Loss: {:.6f}' \n",
        "                   .format(epoch, epochs, batch_idx+1, steps, running_loss/(batch_idx*batch_size)))\n",
        " \n",
        "        train_loss.append(loss.item())\n",
        "    return np.mean(train_loss)/len(trainLoader)"
      ],
      "execution_count": null,
      "outputs": []
    },
    {
      "cell_type": "code",
      "metadata": {
        "id": "Zg-IAKqaM6oa",
        "colab_type": "code",
        "colab": {}
      },
      "source": [
        "def val(model,valLoader,s,ret):\n",
        "    val_loss = 0\n",
        "    tp = 0\n",
        "    \n",
        "    with torch.no_grad():\n",
        "        for batch_idx, (inputs, labels) in enumerate(valLoader):\n",
        "            inputs, labels = inputs.to(device), labels.to(device)\n",
        "            logps = model(inputs)\n",
        "            ret+=logps\n",
        "            _, predicted = torch.max(logps, 1)\n",
        "            tp += (predicted == labels).sum().item()\n",
        "            loss = criterion(logps,labels)\n",
        "            val_loss += loss.item()\n",
        "        val_loss /= len(valLoader.dataset)\n",
        "        \n",
        "        s.append('\\nVal set: Avg. loss: {:.6f}, Accuracy: {}/{} ({:.0f}%)\\n'.format(\n",
        "        val_loss, tp, len(valLoader.dataset),\n",
        "        100. * tp / len(valLoader.dataset)))\n",
        "        print('\\nVal set: Avg. loss: {:.6f}, Accuracy: {}/{} ({:.0f}%)\\n'.format(\n",
        "        val_loss, tp, len(valLoader.dataset),\n",
        "        100. * tp / len(valLoader.dataset)))\n",
        "        \n",
        "    return val_loss,tp / len(valLoader.dataset)"
      ],
      "execution_count": null,
      "outputs": []
    },
    {
      "cell_type": "code",
      "metadata": {
        "id": "TLgtVgyaM6od",
        "colab_type": "code",
        "colab": {}
      },
      "source": [
        "def test(model,testLoader,criterion):\n",
        "    test_loss = 0\n",
        "    accuracy = 0\n",
        "    test_losses=[]\n",
        "    predictions=[]\n",
        "    tp=[]\n",
        "    \n",
        "    with torch.no_grad():\n",
        "        for batch_idx, (inputs, labels) in enumerate(testLoader):\n",
        "            inputs, labels= inputs.to(device), labels.to(device)   \n",
        "            tp+=labels\n",
        "            logps = model(inputs)\n",
        "            _, predicted = torch.max(logps, 1)\n",
        "            predictions+=predicted\n",
        "            accuracy += (predicted == labels).sum().item()\n",
        "            loss = criterion(logps,labels)\n",
        "            test_loss += loss.item()\n",
        "            \n",
        "        test_loss /= len(testLoader.dataset)\n",
        "        test_losses.append(test_loss)\n",
        "        \n",
        "    return np.mean(test_losses),accuracy_score(np.array(tp).astype(int),np.array(predictions).astype(int))"
      ],
      "execution_count": null,
      "outputs": []
    },
    {
      "cell_type": "code",
      "metadata": {
        "colab_type": "code",
        "id": "5R5Gj-7nBIbN",
        "colab": {}
      },
      "source": [
        "def model():\n",
        "  modello=S3D(10)\n",
        "  modello.cuda()\n",
        "  modello.to(device)\n",
        "  return modello\n",
        "\n",
        "\n",
        "def checkP(model,epoch,optimizer,criterion,train_loss,val_loss,val_accs,strings,out,name):\n",
        "  torch.save({\n",
        "            'epoch': epoch,\n",
        "            'model_state_dict': model.state_dict(),\n",
        "            'optimizer_state_dict': optimizer.state_dict(),\n",
        "            'criterion':criterion,\n",
        "            'train_loss':train_loss,\n",
        "            'val_loss':val_loss,\n",
        "            'val_accs':val_accs,\n",
        "            'strings':strings,\n",
        "            'out':out\n",
        "            }, PATH+name+\".model\")\n",
        "  \n",
        "def loadP(file):\n",
        "  modello=model()\n",
        "  checkpoint = torch.load(PATH+file+\".model\")\n",
        "  optimizer = torch.optim.Adam(modello.parameters())\n",
        "  modello.load_state_dict(checkpoint['model_state_dict'])\n",
        "  optimizer.load_state_dict(checkpoint['optimizer_state_dict'])\n",
        "  epoch = checkpoint['epoch']\n",
        "  criterion = checkpoint['criterion']\n",
        "  train_loss = checkpoint['train_loss']\n",
        "  val_loss = checkpoint['val_loss']\n",
        "  val_accs = checkpoint['val_accs']\n",
        "  strings=checkpoint['strings']\n",
        "  out=checkpoint['out']\n",
        "  return modello,epoch,optimizer,criterion,train_loss,val_loss,val_accs,strings,out"
      ],
      "execution_count": null,
      "outputs": []
    },
    {
      "cell_type": "code",
      "metadata": {
        "id": "_oZTw-J8M6ol",
        "colab_type": "code",
        "colab": {}
      },
      "source": [
        "def report(model,test_loader,criterion,val_accs):#\n",
        "    print(\"Accuratezza sul validation\",round(val_accs[-1]*100,2),\"%\")\n",
        "    test_loss,test_accs=test(model,test_loader,criterion)\n",
        "    print(\"La loss sul test vale \",round(test_loss,3))\n",
        "    print(\"L'accuratezza del test vale\", round(test_accs*100),\"%\")\n",
        "    predictions=[]\n",
        "    truelabels=[]\n",
        "    with torch.no_grad():\n",
        "        for batch_idx, (images, labels) in enumerate(test_loader):\n",
        "            images = images.to(device)\n",
        "            labels = labels.to(device)\n",
        "            outputs = model(images)\n",
        "            _, predicted = torch.max(outputs, 1)\n",
        "            predictions+=[torch.Tensor.cpu(e).detach() for e in predicted]\n",
        "            truelabels+=[torch.Tensor.cpu(e).detach() for e in labels]\n",
        "    return np.array(predictions), np.array(truelabels)\n",
        "\n",
        "def grafico(val_accs):\n",
        "   plt.plot(range(len(val_accs)),val_accs, label='Accuracy')\n",
        "   plt.legend(frameon=False)\n",
        "   plt.show(); \n",
        "\n",
        "\n",
        "\n",
        "def graficoL(train_loss,val_loss):\n",
        "    plt.plot(range(len(train_loss)),train_loss, label='Training loss')\n",
        "    plt.plot(range(len(val_loss)),val_loss, label='Validation loss')\n",
        "    plt.legend(frameon=False)\n",
        "    plt.show();  "
      ],
      "execution_count": null,
      "outputs": []
    },
    {
      "cell_type": "code",
      "metadata": {
        "id": "VQBnDYHGM6oo",
        "colab_type": "code",
        "colab": {}
      },
      "source": [
        "def start(learning_rate):\n",
        "    modello,startEpoch,criterion=model(),1,nn.CrossEntropyLoss()\n",
        "    optimizer=torch.optim.Adam(modello.parameters(), lr=learning_rate)\n",
        "    return modello,startEpoch,optimizer,criterion\n",
        "\n",
        "def restart(fname):\n",
        "    model,startEpoch,optimizer,criterion,train_loss,val_loss,val_accs,s,output=loadP(fname)\n",
        "    print(\"Ok ripristino!\")\n",
        "    return model,startEpoch,optimizer,criterion,train_loss,val_loss,val_accs,s,output\n",
        "\n",
        "def salva(model,epoch,optimizer,criterion,train_loss,val_loss,val_accs,s,output,FNAME):\n",
        "     checkP(model,epoch,optimizer,criterion,train_loss,val_loss,val_accs,s,output,FNAME)\n",
        "     print(\"salvato!\")\n",
        "    \n",
        "        "
      ],
      "execution_count": null,
      "outputs": []
    },
    {
      "cell_type": "code",
      "metadata": {
        "id": "24gCsSBPnXfb",
        "colab_type": "code",
        "colab": {}
      },
      "source": [
        "def transferLearningModel():\n",
        "  import os\n",
        "  if not os.path.isfile('./s3d.model'):\n",
        "    !wget -O './s3d.model' 'https://drive.google.com/uc?export=download&id=1HJVDBOQpnTMDVUM3SsXLy0HUkf_wryGO' \n",
        "  model = S3D(400)\n",
        "  state_dict = torch.load(\"./s3d.model\")\n",
        "  # create new OrderedDict that does not contain `module.`\n",
        "  from collections import OrderedDict\n",
        "  new_state_dict = OrderedDict()\n",
        " \n",
        "  for k, v in state_dict.items():\n",
        "      name = k[7:] # remove `module.`\n",
        "      new_state_dict[name] = v\n",
        " \n",
        "  model.load_state_dict(new_state_dict)\n",
        "  model = model.cuda()\n",
        "  torch.backends.cudnn.benchmark = False\n",
        " \n",
        "  model.fc=nn.Sequential(\n",
        "      nn.Conv3d(1024, 10, kernel_size=1, stride=1, bias=True))\n",
        " \n",
        "  model_dict = model.state_dict()\n",
        " \n",
        "  total_params = sum(p.numel() for p in model.parameters())\n",
        "  print(f'{total_params:,} total parameters.')\n",
        "  total_trainable_params = sum(\n",
        "      p.numel() for p in model.parameters() if p.requires_grad)\n",
        "  print(f'{total_trainable_params:,} training parameters.')\n",
        " \n",
        "  return model"
      ],
      "execution_count": null,
      "outputs": []
    },
    {
      "cell_type": "code",
      "metadata": {
        "id": "09Pwd-fVM6ot",
        "colab_type": "code",
        "colab": {}
      },
      "source": [
        "from sys import exit\n",
        "\n",
        "RESTORE=False\n",
        "FNAME=\"m\"\n",
        "epochs=30\n",
        "batch_size=32\n",
        "learning_rate=0.0001\n",
        "print_every=100\n",
        "s=[]\n",
        "output=[]\n",
        "train_loss = []\n",
        "val_loss = []\n",
        "val_accs=[]\n",
        "\n",
        "\n",
        "if not RESTORE:\n",
        "    model,startEpoch,criterion=transferLearningModel(),1,nn.CrossEntropyLoss()\n",
        "    optimizer=torch.optim.Adam(model.parameters(), lr=learning_rate)   \n",
        "else:\n",
        "    model,startEpoch,optimizer,criterion,train_loss,val_loss,val_accs,s,output=restart(FNAME)\n",
        "    optimizer=torch.optim.Adam(model.parameters(), lr=learning_rate) \n",
        "\n",
        "trainLoader= DataLoader(dataset=MyDataLoader(X_train,y_train,DATASET_FILES,1),batch_size=batch_size)\n",
        "valLoader=DataLoader(dataset=MyDataLoader(X_val,y_val,DATASET_FILES,0),batch_size=batch_size)\n",
        "model=model.to(device)\n",
        "epoch=0\n",
        "\n",
        "try:\n",
        "    x=[]\n",
        "    val(model,valLoader,s,x)\n",
        "    step=len(trainLoader)\n",
        "    output.append(x)\n",
        "    for epoch in range(startEpoch,epochs):\n",
        "            outx=[]\n",
        "            sx=[]\n",
        "            train_loss1=train(epoch,step,print_every,trainLoader,sx)\n",
        "            val_loss1,val_accs1=val(model,valLoader,sx,outx)\n",
        "            train_loss.append(train_loss1)\n",
        "            val_loss.append(val_loss1)\n",
        "            val_accs.append(val_accs1) \n",
        "            output.append(outx)\n",
        "            s+=sx\n",
        "    \n",
        "except KeyboardInterrupt: \n",
        "    salva(model,epoch,optimizer,criterion,train_loss,val_loss,val_accs,s,output,FNAME+str(epoch))\n",
        "    exit(\"Salvataggio modello all'epoca \"+str(epoch))\n",
        "    \n",
        "    \n",
        "\n",
        "salva(model,epoch,optimizer,criterion,train_loss,val_loss,val_accs,s,output,FNAME)\n",
        "  "
      ],
      "execution_count": null,
      "outputs": []
    },
    {
      "cell_type": "code",
      "metadata": {
        "id": "Czj7Gz-kyXsh",
        "colab_type": "code",
        "colab": {}
      },
      "source": [
        "!cp -f 'drive/My Drive/m8.model' ./\n",
        "!cp -f 'drive/My Drive/m9.model' ./\n",
        "!cp -f 'drive/My Drive/m10.model' ./\n",
        "!cp -f 'drive/My Drive/m12.model' ./"
      ],
      "execution_count": null,
      "outputs": []
    },
    {
      "cell_type": "code",
      "metadata": {
        "id": "tlrez47bN1Er",
        "colab_type": "code",
        "colab": {
          "base_uri": "https://localhost:8080/",
          "height": 531
        },
        "outputId": "307a00a5-a54e-4c9e-c3ac-c25b4e284dab"
      },
      "source": [
        "model,startEpoch,optimizer,criterion,train_loss,val_loss,val_accs,s,output=restart('m8')\n",
        "grafico(val_accs)\n",
        "graficoL(train_loss,val_loss)"
      ],
      "execution_count": null,
      "outputs": [
        {
          "output_type": "stream",
          "text": [
            "Ok ripristino!\n"
          ],
          "name": "stdout"
        },
        {
          "output_type": "display_data",
          "data": {
            "image/png": "[encoded data removed]",
            "text/plain": [
              "<Figure size 432x288 with 1 Axes>"
            ]
          },
          "metadata": {
            "tags": [],
            "needs_background": "light"
          }
        },
        {
          "output_type": "display_data",
          "data": {
            "image/png": "[encoded data removed]",
            "text/plain": [
              "<Figure size 432x288 with 1 Axes>"
            ]
          },
          "metadata": {
            "tags": [],
            "needs_background": "light"
          }
        }
      ]
    },
    {
      "cell_type": "code",
      "metadata": {
        "id": "vg_ycTAJOSab",
        "colab_type": "code",
        "colab": {
          "base_uri": "https://localhost:8080/",
          "height": 531
        },
        "outputId": "af8a27b3-9089-4387-fd63-4ea3ab527c21"
      },
      "source": [
        "model,startEpoch,optimizer,criterion,train_loss,val_loss,val_accs,s,output=restart('m9')\n",
        "grafico(val_accs)\n",
        "graficoL(train_loss,val_loss)"
      ],
      "execution_count": null,
      "outputs": [
        {
          "output_type": "stream",
          "text": [
            "Ok ripristino!\n"
          ],
          "name": "stdout"
        },
        {
          "output_type": "display_data",
          "data": {
            "image/png": "[encoded data removed]",
            "text/plain": [
              "<Figure size 432x288 with 1 Axes>"
            ]
          },
          "metadata": {
            "tags": [],
            "needs_background": "light"
          }
        },
        {
          "output_type": "display_data",
          "data": {
            "image/png": "[encoded data removed]",
            "text/plain": [
              "<Figure size 432x288 with 1 Axes>"
            ]
          },
          "metadata": {
            "tags": [],
            "needs_background": "light"
          }
        }
      ]
    },
    {
      "cell_type": "code",
      "metadata": {
        "id": "qgBSambxPSJT",
        "colab_type": "code",
        "colab": {
          "base_uri": "https://localhost:8080/",
          "height": 531
        },
        "outputId": "0f4450f8-2108-4c5c-b138-45cda700f781"
      },
      "source": [
        "model,startEpoch,optimizer,criterion,train_loss,val_loss,val_accs,s,output=restart('m10')\n",
        "grafico(val_accs)\n",
        "graficoL(train_loss,val_loss)"
      ],
      "execution_count": null,
      "outputs": [
        {
          "output_type": "stream",
          "text": [
            "Ok ripristino!\n"
          ],
          "name": "stdout"
        },
        {
          "output_type": "display_data",
          "data": {
            "image/png": "[encoded data removed]",
            "text/plain": [
              "<Figure size 432x288 with 1 Axes>"
            ]
          },
          "metadata": {
            "tags": [],
            "needs_background": "light"
          }
        },
        {
          "output_type": "display_data",
          "data": {
            "image/png": "[encoded data removed]",
            "text/plain": [
              "<Figure size 432x288 with 1 Axes>"
            ]
          },
          "metadata": {
            "tags": [],
            "needs_background": "light"
          }
        }
      ]
    },
    {
      "cell_type": "code",
      "metadata": {
        "id": "DZCeBEaIPVJO",
        "colab_type": "code",
        "colab": {
          "base_uri": "https://localhost:8080/",
          "height": 531
        },
        "outputId": "f37c45bf-ac53-4997-8f0a-4ff731b59299"
      },
      "source": [
        "model,startEpoch,optimizer,criterion,train_loss,val_loss,val_accs,s,output=restart('m12')\n",
        "grafico(val_accs)\n",
        "graficoL(train_loss,val_loss)"
      ],
      "execution_count": null,
      "outputs": [
        {
          "output_type": "stream",
          "text": [
            "Ok ripristino!\n"
          ],
          "name": "stdout"
        },
        {
          "output_type": "display_data",
          "data": {
            "image/png": "[encoded data removed]",
            "text/plain": [
              "<Figure size 432x288 with 1 Axes>"
            ]
          },
          "metadata": {
            "tags": [],
            "needs_background": "light"
          }
        },
        {
          "output_type": "display_data",
          "data": {
            "image/png": "[encoded data removed]",
            "text/plain": [
              "<Figure size 432x288 with 1 Axes>"
            ]
          },
          "metadata": {
            "tags": [],
            "needs_background": "light"
          }
        }
      ]
    },
    {
      "cell_type": "code",
      "metadata": {
        "id": "nhVwVD1OM6ow",
        "colab_type": "code",
        "colab": {
          "base_uri": "https://localhost:8080/",
          "height": 87
        },
        "outputId": "5e6e09a1-e9cd-4d72-f5ac-33ac76a0146b"
      },
      "source": [
        "model,startEpoch,optimizer,criterion,train_loss,val_loss,val_accs,s,output=restart('m12')\n",
        "testLoader=DataLoader(dataset=MyDataLoader(X_test,y_test,DATASET_FILES,0),batch_size=32)\n",
        "y_true,y_pred=statistiche(model,testLoader,criterion,val_accs)\n"
      ],
      "execution_count": null,
      "outputs": [
        {
          "output_type": "stream",
          "text": [
            "Ok ripristino!\n",
            "Accuratezza sul validation 78.85 %\n",
            "La loss sul test vale  0.018\n",
            "L'accuratezza del test vale 80.0 %\n"
          ],
          "name": "stdout"
        }
      ]
    },
    {
      "cell_type": "code",
      "metadata": {
        "id": "0XlaLDicaw3r",
        "colab_type": "code",
        "colab": {
          "base_uri": "https://localhost:8080/",
          "height": 312
        },
        "outputId": "6585525b-2fa0-4f4a-e775-8b1f1ad28ddb"
      },
      "source": [
        "from sklearn.metrics import classification_report\n",
        "\n",
        "print(classification_report(y_true, y_pred))"
      ],
      "execution_count": null,
      "outputs": [
        {
          "output_type": "stream",
          "text": [
            "              precision    recall  f1-score   support\n",
            "\n",
            "           0       0.72      0.88      0.79       237\n",
            "           1       0.73      0.70      0.72       332\n",
            "           2       0.85      0.85      0.85      1836\n",
            "           3       0.93      0.90      0.92      1103\n",
            "           4       0.84      0.83      0.83       127\n",
            "           5       0.80      0.82      0.81       691\n",
            "           6       0.65      0.77      0.70       985\n",
            "           7       0.64      0.75      0.69       197\n",
            "           8       0.74      0.77      0.75      1827\n",
            "           9       0.83      0.76      0.79      3791\n",
            "\n",
            "    accuracy                           0.80     11126\n",
            "   macro avg       0.77      0.80      0.79     11126\n",
            "weighted avg       0.80      0.80      0.80     11126\n",
            "\n"
          ],
          "name": "stdout"
        }
      ]
    }
  ]
}
{
  "nbformat": 4,
  "nbformat_minor": 0,
  "metadata": {
    "accelerator": "GPU",
    "colab": {
      "name": "Esame204898.ipynb",
      "provenance": [],
      "collapsed_sections": [],
      "machine_shape": "hm"
    },
    "kernelspec": {
      "display_name": "Python 3",
      "language": "python",
      "name": "python3"
    },
    "language_info": {
      "codemirror_mode": {
        "name": "ipython",
        "version": 3
      },
      "file_extension": ".py",
      "mimetype": "text/x-python",
      "name": "python",
      "nbconvert_exporter": "python",
      "pygments_lexer": "ipython3",
      "version": "3.8.3"
    }
  },
  "cells": [
    {
      "cell_type": "code",
      "metadata": {
        "colab_type": "code",
        "id": "o9hCu23B6J6T",
        "colab": {
          "base_uri": "https://localhost:8080/",
          "height": 35
        },
        "outputId": "64bc9e38-64c6-4636-c808-cc6c909d94df"
      },
      "source": [
        "import os\n",
        "import json\n",
        "import time\n",
        "from datetime import datetime\n",
        "import torch\n",
        "import torch.nn as nn\n",
        "import torch.nn.functional as F\n",
        "from torch.utils.data import Dataset, DataLoader\n",
        "import torchvision\n",
        "import cv2\n",
        "from sklearn.metrics import accuracy_score\n",
        "from PIL import Image\n",
        "import pandas as pd\n",
        "import numpy as np\n",
        "import matplotlib.pyplot as plt\n",
        "%matplotlib inline\n",
        "USE_CUDA = True\n",
        "CUDA = USE_CUDA and torch.cuda.is_available()\n",
        "device = torch.device(\"cuda\" if CUDA else \"cpu\")\n",
        "\n",
        "if CUDA:\n",
        "    print('run on %s' % device)"
      ],
      "execution_count": 1,
      "outputs": [
        {
          "output_type": "stream",
          "text": [
            "run on cuda\n"
          ],
          "name": "stdout"
        }
      ]
    },
    {
      "cell_type": "code",
      "metadata": {
        "colab_type": "code",
        "id": "GzZUQUnqE424",
        "colab": {
          "base_uri": "https://localhost:8080/",
          "height": 141
        },
        "outputId": "a291c614-6df5-4b28-828a-f4b5ce5aed41"
      },
      "source": [
        "from google.colab import drive\n",
        "drive.mount('/content/drive')\n",
        "!cp -avr 'drive/My Drive/ProgettoCV204898/dataset.zip' ./\n",
        "!cp -f 'drive/My Drive/ProgettoCV204898/testset_keys_1lug2020.txt' ./\n",
        "!unzip -qq './dataset.zip' -d './'"
      ],
      "execution_count": 2,
      "outputs": [
        {
          "output_type": "stream",
          "text": [
            "Go to this URL in a browser: https://accounts.google.com/o/oauth2/auth?client_id=947318989803-6bn6qk8qdgf4n4g3pfee6491hc0brc4i.apps.googleusercontent.com&redirect_uri=urn%3aietf%3awg%3aoauth%3a2.0%3aoob&scope=email%20https%3a%2f%2fwww.googleapis.com%2fauth%2fdocs.test%20https%3a%2f%2fwww.googleapis.com%2fauth%2fdrive%20https%3a%2f%2fwww.googleapis.com%2fauth%2fdrive.photos.readonly%20https%3a%2f%2fwww.googleapis.com%2fauth%2fpeopleapi.readonly&response_type=code\n",
            "\n",
            "Enter your authorization code:\n",
            "··········\n",
            "Mounted at /content/drive\n",
            "'drive/My Drive/ProgettoCV204898/dataset.zip' -> './dataset.zip'\n"
          ],
          "name": "stdout"
        }
      ]
    },
    {
      "cell_type": "code",
      "metadata": {
        "colab_type": "code",
        "id": "uVLxvNRXEHLt",
        "colab": {
          "base_uri": "https://localhost:8080/",
          "height": 35
        },
        "outputId": "bed86352-a9aa-4829-cd9f-9f9ee1cc6019"
      },
      "source": [
        "PATH='./'\n",
        "DATASET_DIR = './dataset/'\n",
        "DATASET_FILES = './dataset/examples/'\n",
        "KEYSET_FILE = './testset_keys_1lug2020.txt'\n",
        "\n",
        "\n",
        "LABELS = {0 : \"block\", 1 : \"pass\", 2 : \"run\", 3: \"dribble\",4: \"shoot\",\n",
        "          5 : \"ball in hand\", 6 : \"defense\", 7: \"pick\" , 8 : \"no_action\" , \n",
        "          9: \"walk\"}\n",
        "\n",
        "\n",
        "with open(os.path.join(DATASET_DIR, 'annotation_dict.json')) as fp:\n",
        "    annotations = json.load(fp)\n",
        "\n",
        "with open(KEYSET_FILE) as fp:\n",
        "    keys_test = json.load(fp)\n",
        "\n",
        "annotationTrain = dict(filter(lambda x: x[0] not in keys_test, annotations.items()))\n",
        "annotationTest = dict(filter(lambda x: x[0] in keys_test, annotations.items()))\n",
        "\n",
        "len(annotations), len(annotationTrain), len(annotationTest)\n"
      ],
      "execution_count": 32,
      "outputs": [
        {
          "output_type": "execute_result",
          "data": {
            "text/plain": [
              "(37085, 25959, 11126)"
            ]
          },
          "metadata": {
            "tags": []
          },
          "execution_count": 32
        }
      ]
    },
    {
      "cell_type": "code",
      "metadata": {
        "id": "00Qcl69ZqdiX",
        "colab_type": "code",
        "colab": {
          "base_uri": "https://localhost:8080/",
          "height": 296
        },
        "outputId": "d267cb19-5e50-4a74-a081-bc5b7d1f267a"
      },
      "source": [
        "from IPython.display import HTML\n",
        "from base64 import b64encode\n",
        "mp4 = open(os.path.join(DATASET_FILES, '0018414.mp4'),'rb').read()\n",
        "data_url = \"data:video/mp4;base64,\" + b64encode(mp4).decode()\n",
        "HTML(\"\"\"\n",
        "<video width=200 controls loop autoplay>>\n",
        "      <source src=\"%s\" type=\"video/mp4\">\n",
        "</video>\n",
        "\"\"\" % data_url)"
      ],
      "execution_count": 33,
      "outputs": [
        {
          "output_type": "execute_result",
          "data": {
            "text/html": [
              "\n",
              "<video width=200 controls loop autoplay>>\n",
              "      <source src=\"data:video/mp4;base64,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\" type=\"video/mp4\">\n",
              "</video>\n"
            ],
            "text/plain": [
              "<IPython.core.display.HTML object>"
            ]
          },
          "metadata": {
            "tags": []
          },
          "execution_count": 33
        }
      ]
    },
    {
      "cell_type": "code",
      "metadata": {
        "colab_type": "code",
        "id": "yD6XR9dwwOw_",
        "colab": {}
      },
      "source": [
        "from sklearn.model_selection import train_test_split\n",
        "\n",
        "X_train, X_val, y_train, y_val = train_test_split(list(annotationTrain.keys()), list(annotationTrain.values()), test_size=0.02, random_state=42)\n",
        "X_test,y_test=list(annotationTest.keys()),list(annotationTest.values())\n"
      ],
      "execution_count": 34,
      "outputs": []
    },
    {
      "cell_type": "code",
      "metadata": {
        "id": "Z8tCGrHOiSFs",
        "colab_type": "code",
        "colab": {
          "base_uri": "https://localhost:8080/",
          "height": 352
        },
        "outputId": "e62abc9f-ac3f-4fcd-d78b-e061571d7db4"
      },
      "source": [
        "objects=['TrainSet','ValidationSet','TestSet']\n",
        "\n",
        "a=(len(X_train)/(len(X_train)+len(X_val)+len(X_test)))\n",
        "b=(len(X_val)/(len(X_train)+len(X_val)+len(X_test)))\n",
        "c=(len(X_test)/(len(X_train)+len(X_val)+len(X_test)))\n",
        "\n",
        "y_pos=[round(a*100,2),round(b*100,2),round(c*100,2)]\n",
        "l=[str(round(a*100,2))+\"%\",str(round(b*100,2))+\"%\",str(round(c*100,2))+\"%\"]\n",
        "fig = plt.figure()\n",
        "ax = fig.add_axes([0,0,1,1])\n",
        "ax.bar(objects,y_pos,color=['red','green','blue'])\n",
        "\n",
        "ax.set_title('Divisione effettuata')\n",
        "ax.set_xticklabels(l)\n",
        "rects = ax.patches\n",
        "\n",
        "\n",
        "\n",
        "for rect, label in zip(rects, objects):\n",
        "    height = rect.get_height()\n",
        "    ax.text(rect.get_x() + rect.get_width() / 2, height, label,\n",
        "            ha='center', va='bottom')\n",
        "plt.show()\n"
      ],
      "execution_count": 35,
      "outputs": [
        {
          "output_type": "display_data",
          "data": {
            "image/png": "[encoded data removed]",
            "text/plain": [
              "<Figure size 432x288 with 1 Axes>"
            ]
          },
          "metadata": {
            "tags": [],
            "needs_background": "light"
          }
        }
      ]
    },
    {
      "cell_type": "code",
      "metadata": {
        "id": "JDE0P3dpxt5_",
        "colab_type": "code",
        "colab": {
          "base_uri": "https://localhost:8080/",
          "height": 337
        },
        "outputId": "16ddf460-3404-45fd-82dc-c29f31d128c9"
      },
      "source": [
        "et=list(LABELS.values())\n",
        "train=list(np.bincount(y_train))\n",
        "\n",
        "diz={}\n",
        "for i in range(0,len(et)):\n",
        "  diz[et[i]]=train[i]\n",
        "\n",
        "c = list(diz.keys()) \n",
        "v = list(diz.values()) \n",
        "\n",
        "fig = plt.figure(figsize = (10, 5)) \n",
        "  \n",
        "# creating the bar plot \n",
        "plt.bar(c, v,color='red') \n",
        "plt.title(\"Distribuzione esempi per classe nel train set\") \n",
        "\n",
        "plt.show()"
      ],
      "execution_count": 50,
      "outputs": [
        {
          "output_type": "display_data",
          "data": {
            "image/png": "[encoded data removed]",
            "text/plain": [
              "<Figure size 720x360 with 1 Axes>"
            ]
          },
          "metadata": {
            "tags": [],
            "needs_background": "light"
          }
        }
      ]
    },
    {
      "cell_type": "code",
      "metadata": {
        "id": "oDFLeWjEzg9H",
        "colab_type": "code",
        "colab": {
          "base_uri": "https://localhost:8080/",
          "height": 337
        },
        "outputId": "70c172c0-105e-4729-f9e8-479296ab9edf"
      },
      "source": [
        "val=list(np.bincount(y_val))\n",
        "\n",
        "diz={}\n",
        "for i in range(0,len(et)):\n",
        "  diz[et[i]]=val[i]\n",
        "\n",
        "c = list(diz.keys()) \n",
        "v = list(diz.values()) \n",
        "\n",
        "fig = plt.figure(figsize = (10, 5)) \n",
        "  \n",
        "# creating the bar plot \n",
        "plt.bar(c, v,color='green') \n",
        "plt.title(\"Distribuzione esempi per classe nel validation set\") \n",
        "\n",
        "plt.show()"
      ],
      "execution_count": 52,
      "outputs": [
        {
          "output_type": "display_data",
          "data": {
            "image/png": "[encoded data removed]",
            "text/plain": [
              "<Figure size 720x360 with 1 Axes>"
            ]
          },
          "metadata": {
            "tags": [],
            "needs_background": "light"
          }
        }
      ]
    },
    {
      "cell_type": "code",
      "metadata": {
        "id": "TzAVVvNDz0e5",
        "colab_type": "code",
        "colab": {
          "base_uri": "https://localhost:8080/",
          "height": 337
        },
        "outputId": "7ca715db-561d-41c3-b82f-0f981c1ac7dd"
      },
      "source": [
        "test=list(np.bincount(y_test))\n",
        "\n",
        "diz={}\n",
        "for i in range(0,len(et)):\n",
        "  diz[et[i]]=test[i]\n",
        "\n",
        "c = list(diz.keys()) \n",
        "v = list(diz.values()) \n",
        "\n",
        "fig = plt.figure(figsize = (10, 5)) \n",
        "  \n",
        "# creating the bar plot \n",
        "plt.bar(c, v,color='blue') \n",
        "plt.title(\"Distribuzione esempi per classe nel validation set\") \n",
        "\n",
        "plt.show()"
      ],
      "execution_count": 53,
      "outputs": [
        {
          "output_type": "display_data",
          "data": {
            "image/png": "[encoded data removed]",
            "text/plain": [
              "<Figure size 720x360 with 1 Axes>"
            ]
          },
          "metadata": {
            "tags": [],
            "needs_background": "light"
          }
        }
      ]
    },
    {
      "cell_type": "code",
      "metadata": {
        "colab_type": "code",
        "id": "VtN9am_BzERt",
        "colab": {}
      },
      "source": [
        "import torch\n",
        "from torch import nn\n",
        "import torch.nn.functional as F\n",
        " \n",
        "class S3D(nn.Module):\n",
        "    def __init__(self, num_class):\n",
        "        super(S3D, self).__init__()\n",
        "        self.base = nn.Sequential(\n",
        "            SepConv3d(3, 64, kernel_size=7, stride=2, padding=3),                           #Sep-Conv7x7x7\n",
        "            nn.MaxPool3d(kernel_size=(1,3,3), stride=(1,2,2), padding=(0,1,1)),             #1x3x3 MaxPool\n",
        "            BasicConv3d(64, 64, kernel_size=1, stride=1),                                   #1x1x1 Conv\n",
        "            SepConv3d(64, 192, kernel_size=3, stride=1, padding=1),                         #Sep-Conv 3x3x3 (Conv3D 1x3x3->Conv3D 3x1x1)\n",
        "            nn.MaxPool3d(kernel_size=(1,3,3), stride=(1,2,2), padding=(0,1,1)),             #1x3x3 MaxPool\n",
        "            Mixed_3b(),\n",
        "            Mixed_3c(),\n",
        "            nn.MaxPool3d(kernel_size=(3,3,3), stride=(2,2,2), padding=(1,1,1)),\n",
        "            Mixed_4b(),\n",
        "            Mixed_4c(),\n",
        "            Mixed_4d(),\n",
        "            Mixed_4e(),\n",
        "            Mixed_4f(),\n",
        "            nn.MaxPool3d(kernel_size=(2,2,2), stride=(2,2,2), padding=(0,0,0)),\n",
        "            Mixed_5b(),\n",
        "            Mixed_5c(),\n",
        "        )\n",
        "        self.fc = nn.Sequential(nn.Conv3d(1024, num_class, kernel_size=1, stride=1, bias=True),)\n",
        " \n",
        "    def forward(self, x):\n",
        "        y = self.base(x)\n",
        "        y = F.avg_pool3d(y, (2, y.size(3), y.size(4)), stride=1)\n",
        "        y = self.fc(y)\n",
        "        y = y.view(y.size(0), y.size(1), y.size(2))\n",
        "        logits = torch.mean(y, 2)\n",
        " \n",
        "        return logits"
      ],
      "execution_count": 54,
      "outputs": []
    },
    {
      "cell_type": "code",
      "metadata": {
        "colab_type": "code",
        "id": "RMYVaPIjzsxM",
        "colab": {}
      },
      "source": [
        "class BasicConv3d(nn.Module):\n",
        "    def __init__(self, in_planes, out_planes, kernel_size, stride, padding=0):\n",
        "        super(BasicConv3d, self).__init__()\n",
        "        self.conv = nn.Conv3d(in_planes, out_planes, kernel_size=kernel_size, stride=stride, padding=padding, bias=False)\n",
        "        self.bn = nn.BatchNorm3d(out_planes, eps=1e-3, momentum=0.001, affine=True)\n",
        "        self.relu = nn.ReLU()\n",
        " \n",
        "    def forward(self, x):\n",
        "        x = self.conv(x)\n",
        "        x = self.bn(x)\n",
        "        x = self.relu(x)\n",
        "        return x"
      ],
      "execution_count": 55,
      "outputs": []
    },
    {
      "cell_type": "code",
      "metadata": {
        "colab_type": "code",
        "id": "UzHO8D1Hz5xL",
        "colab": {}
      },
      "source": [
        "class SepConv3d(nn.Module):\n",
        "    def __init__(self, in_planes, out_planes, kernel_size, stride, padding=0):\n",
        "        super(SepConv3d, self).__init__()\n",
        "        self.conv_s = nn.Conv3d(in_planes, out_planes, kernel_size=(1,kernel_size,kernel_size), stride=(1,stride,stride), padding=(0,padding,padding), bias=False)\n",
        "        self.bn_s = nn.BatchNorm3d(out_planes, eps=1e-3, momentum=0.001, affine=True)\n",
        "        self.relu_s = nn.ReLU()\n",
        " \n",
        "        self.conv_t = nn.Conv3d(out_planes, out_planes, kernel_size=(kernel_size,1,1), stride=(stride,1,1), padding=(padding,0,0), bias=False)\n",
        "        self.bn_t = nn.BatchNorm3d(out_planes, eps=1e-3, momentum=0.001, affine=True)\n",
        "        self.relu_t = nn.ReLU()\n",
        " \n",
        "    def forward(self, x):\n",
        "        x = self.conv_s(x)\n",
        "        x = self.bn_s(x)\n",
        "        x = self.relu_s(x)\n",
        " \n",
        "        x = self.conv_t(x)\n",
        "        x = self.bn_t(x)\n",
        "        x = self.relu_t(x)\n",
        "        return x"
      ],
      "execution_count": 56,
      "outputs": []
    },
    {
      "cell_type": "code",
      "metadata": {
        "colab_type": "code",
        "id": "mYyNj6-Mz_nL",
        "colab": {}
      },
      "source": [
        "class Mixed_3b(nn.Module):\n",
        "    def __init__(self):\n",
        "        super(Mixed_3b, self).__init__()\n",
        " \n",
        "        self.branch0 = nn.Sequential(\n",
        "            BasicConv3d(192, 64, kernel_size=1, stride=1),                        #Branch 1x1x1\n",
        "        )\n",
        "        self.branch1 = nn.Sequential(\n",
        "            BasicConv3d(192, 96, kernel_size=1, stride=1),                        #Branch 1x1x1\n",
        "            SepConv3d(96, 128, kernel_size=3, stride=1, padding=1),               #Conv3Dx3x3->Conv3D 3x1x1\n",
        "        )\n",
        "        self.branch2 = nn.Sequential(\n",
        "            BasicConv3d(192, 16, kernel_size=1, stride=1),                        #Branch 1x1x1\n",
        "            SepConv3d(16, 32, kernel_size=3, stride=1, padding=1),                #Conv3Dx3x3->Conv3D 3x1x1\n",
        "        )\n",
        "        self.branch3 = nn.Sequential(\n",
        "            nn.MaxPool3d(kernel_size=(3,3,3), stride=1, padding=1),               #Branch MaxPool 3x3x3\n",
        "            BasicConv3d(192, 32, kernel_size=1, stride=1),                        #Conv3D1x1x1\n",
        "        )\n",
        " \n",
        "    def forward(self, x):\n",
        "        x0 = self.branch0(x)\n",
        "        x1 = self.branch1(x)\n",
        "        x2 = self.branch2(x)\n",
        "        x3 = self.branch3(x)\n",
        "        out = torch.cat((x0, x1, x2, x3), 1)                                      \n",
        " \n",
        "        return out\n",
        " "
      ],
      "execution_count": 57,
      "outputs": []
    },
    {
      "cell_type": "code",
      "metadata": {
        "colab_type": "code",
        "id": "hKib3qPT0D3T",
        "colab": {}
      },
      "source": [
        "class Mixed_3c(nn.Module):\n",
        "    def __init__(self):\n",
        "        super(Mixed_3c, self).__init__()\n",
        "        self.branch0 = nn.Sequential(\n",
        "            BasicConv3d(256, 128, kernel_size=1, stride=1),\n",
        "        )\n",
        "        self.branch1 = nn.Sequential(\n",
        "            BasicConv3d(256, 128, kernel_size=1, stride=1),\n",
        "            SepConv3d(128, 192, kernel_size=3, stride=1, padding=1),\n",
        "        )\n",
        "        self.branch2 = nn.Sequential(\n",
        "            BasicConv3d(256, 32, kernel_size=1, stride=1),\n",
        "            SepConv3d(32, 96, kernel_size=3, stride=1, padding=1),\n",
        "        )\n",
        "        self.branch3 = nn.Sequential(\n",
        "            nn.MaxPool3d(kernel_size=(3,3,3), stride=1, padding=1),\n",
        "            BasicConv3d(256, 64, kernel_size=1, stride=1),\n",
        "        )\n",
        " \n",
        "    def forward(self, x):\n",
        "        x0 = self.branch0(x)\n",
        "        x1 = self.branch1(x)\n",
        "        x2 = self.branch2(x)\n",
        "        x3 = self.branch3(x)\n",
        "        out = torch.cat((x0, x1, x2, x3), 1)\n",
        "        return out\n",
        " "
      ],
      "execution_count": 58,
      "outputs": []
    },
    {
      "cell_type": "code",
      "metadata": {
        "colab_type": "code",
        "id": "-v0XN5nt0MRz",
        "colab": {}
      },
      "source": [
        "class Mixed_4b(nn.Module):\n",
        "    def __init__(self):\n",
        "        super(Mixed_4b, self).__init__()\n",
        " \n",
        "        self.branch0 = nn.Sequential(\n",
        "            BasicConv3d(480, 192, kernel_size=1, stride=1),\n",
        "        )\n",
        "        self.branch1 = nn.Sequential(\n",
        "            BasicConv3d(480, 96, kernel_size=1, stride=1),\n",
        "            SepConv3d(96, 208, kernel_size=3, stride=1, padding=1),\n",
        "        )\n",
        "        self.branch2 = nn.Sequential(\n",
        "            BasicConv3d(480, 16, kernel_size=1, stride=1),\n",
        "            SepConv3d(16, 48, kernel_size=3, stride=1, padding=1),\n",
        "        )\n",
        "        self.branch3 = nn.Sequential(\n",
        "            nn.MaxPool3d(kernel_size=(3,3,3), stride=1, padding=1),\n",
        "            BasicConv3d(480, 64, kernel_size=1, stride=1),\n",
        "        )\n",
        " \n",
        "    def forward(self, x):\n",
        "        x0 = self.branch0(x)\n",
        "        x1 = self.branch1(x)\n",
        "        x2 = self.branch2(x)\n",
        "        x3 = self.branch3(x)\n",
        "        out = torch.cat((x0, x1, x2, x3), 1)\n",
        "        return out\n",
        " "
      ],
      "execution_count": 59,
      "outputs": []
    },
    {
      "cell_type": "code",
      "metadata": {
        "colab_type": "code",
        "id": "b5w-Esa-0ODb",
        "colab": {}
      },
      "source": [
        "class Mixed_4c(nn.Module):\n",
        "    def __init__(self):\n",
        "        super(Mixed_4c, self).__init__()\n",
        " \n",
        "        self.branch0 = nn.Sequential(\n",
        "            BasicConv3d(512, 160, kernel_size=1, stride=1),\n",
        "        )\n",
        "        self.branch1 = nn.Sequential(\n",
        "            BasicConv3d(512, 112, kernel_size=1, stride=1),\n",
        "            SepConv3d(112, 224, kernel_size=3, stride=1, padding=1),\n",
        "        )\n",
        "        self.branch2 = nn.Sequential(\n",
        "            BasicConv3d(512, 24, kernel_size=1, stride=1),\n",
        "            SepConv3d(24, 64, kernel_size=3, stride=1, padding=1),\n",
        "        )\n",
        "        self.branch3 = nn.Sequential(\n",
        "            nn.MaxPool3d(kernel_size=(3,3,3), stride=1, padding=1),\n",
        "            BasicConv3d(512, 64, kernel_size=1, stride=1),\n",
        "        )\n",
        " \n",
        "    def forward(self, x):\n",
        "        x0 = self.branch0(x)\n",
        "        x1 = self.branch1(x)\n",
        "        x2 = self.branch2(x)\n",
        "        x3 = self.branch3(x)\n",
        "        out = torch.cat((x0, x1, x2, x3), 1)\n",
        "        return out"
      ],
      "execution_count": 60,
      "outputs": []
    },
    {
      "cell_type": "code",
      "metadata": {
        "colab_type": "code",
        "id": "eCf8od5i0T2r",
        "colab": {}
      },
      "source": [
        "class Mixed_4d(nn.Module):\n",
        "    def __init__(self):\n",
        "        super(Mixed_4d, self).__init__()\n",
        " \n",
        "        self.branch0 = nn.Sequential(\n",
        "            BasicConv3d(512, 128, kernel_size=1, stride=1),\n",
        "        )\n",
        "        self.branch1 = nn.Sequential(\n",
        "            BasicConv3d(512, 128, kernel_size=1, stride=1),\n",
        "            SepConv3d(128, 256, kernel_size=3, stride=1, padding=1),\n",
        "        )\n",
        "        self.branch2 = nn.Sequential(\n",
        "            BasicConv3d(512, 24, kernel_size=1, stride=1),\n",
        "            SepConv3d(24, 64, kernel_size=3, stride=1, padding=1),\n",
        "        )\n",
        "        self.branch3 = nn.Sequential(\n",
        "            nn.MaxPool3d(kernel_size=(3,3,3), stride=1, padding=1),\n",
        "            BasicConv3d(512, 64, kernel_size=1, stride=1),\n",
        "        )\n",
        " \n",
        "    def forward(self, x):\n",
        "        x0 = self.branch0(x)\n",
        "        x1 = self.branch1(x)\n",
        "        x2 = self.branch2(x)\n",
        "        x3 = self.branch3(x)\n",
        "        out = torch.cat((x0, x1, x2, x3), 1)\n",
        "        return out\n",
        " "
      ],
      "execution_count": 61,
      "outputs": []
    },
    {
      "cell_type": "code",
      "metadata": {
        "colab_type": "code",
        "id": "wvwlmF-i0XHz",
        "colab": {}
      },
      "source": [
        "class Mixed_4e(nn.Module):\n",
        "    def __init__(self):\n",
        "        super(Mixed_4e, self).__init__()\n",
        " \n",
        "        self.branch0 = nn.Sequential(\n",
        "            BasicConv3d(512, 112, kernel_size=1, stride=1),\n",
        "        )\n",
        "        self.branch1 = nn.Sequential(\n",
        "            BasicConv3d(512, 144, kernel_size=1, stride=1),\n",
        "            SepConv3d(144, 288, kernel_size=3, stride=1, padding=1),\n",
        "        )\n",
        "        self.branch2 = nn.Sequential(\n",
        "            BasicConv3d(512, 32, kernel_size=1, stride=1),\n",
        "            SepConv3d(32, 64, kernel_size=3, stride=1, padding=1),\n",
        "        )\n",
        "        self.branch3 = nn.Sequential(\n",
        "            nn.MaxPool3d(kernel_size=(3,3,3), stride=1, padding=1),\n",
        "            BasicConv3d(512, 64, kernel_size=1, stride=1),\n",
        "        )\n",
        " \n",
        "    def forward(self, x):\n",
        "        x0 = self.branch0(x)\n",
        "        x1 = self.branch1(x)\n",
        "        x2 = self.branch2(x)\n",
        "        x3 = self.branch3(x)\n",
        "        out = torch.cat((x0, x1, x2, x3), 1)\n",
        "        return out\n",
        " "
      ],
      "execution_count": 62,
      "outputs": []
    },
    {
      "cell_type": "code",
      "metadata": {
        "colab_type": "code",
        "id": "LtR0R9o90akr",
        "colab": {}
      },
      "source": [
        "class Mixed_4f(nn.Module):\n",
        "    def __init__(self):\n",
        "        super(Mixed_4f, self).__init__()\n",
        " \n",
        "        self.branch0 = nn.Sequential(\n",
        "            BasicConv3d(528, 256, kernel_size=1, stride=1),\n",
        "        )\n",
        "        self.branch1 = nn.Sequential(\n",
        "            BasicConv3d(528, 160, kernel_size=1, stride=1),\n",
        "            SepConv3d(160, 320, kernel_size=3, stride=1, padding=1),\n",
        "        )\n",
        "        self.branch2 = nn.Sequential(\n",
        "            BasicConv3d(528, 32, kernel_size=1, stride=1),\n",
        "            SepConv3d(32, 128, kernel_size=3, stride=1, padding=1),\n",
        "        )\n",
        "        self.branch3 = nn.Sequential(\n",
        "            nn.MaxPool3d(kernel_size=(3,3,3), stride=1, padding=1),\n",
        "            BasicConv3d(528, 128, kernel_size=1, stride=1),\n",
        "        )\n",
        " \n",
        "    def forward(self, x):\n",
        "        x0 = self.branch0(x)\n",
        "        x1 = self.branch1(x)\n",
        "        x2 = self.branch2(x)\n",
        "        x3 = self.branch3(x)\n",
        "        out = torch.cat((x0, x1, x2, x3), 1)\n",
        "        return out"
      ],
      "execution_count": 63,
      "outputs": []
    },
    {
      "cell_type": "code",
      "metadata": {
        "colab_type": "code",
        "id": "LB4r1mpo0gHr",
        "colab": {}
      },
      "source": [
        "class Mixed_5b(nn.Module):\n",
        "    def __init__(self):\n",
        "        super(Mixed_5b, self).__init__()\n",
        " \n",
        "        self.branch0 = nn.Sequential(\n",
        "            BasicConv3d(832, 256, kernel_size=1, stride=1),\n",
        "        )\n",
        "        self.branch1 = nn.Sequential(\n",
        "            BasicConv3d(832, 160, kernel_size=1, stride=1),\n",
        "            SepConv3d(160, 320, kernel_size=3, stride=1, padding=1),\n",
        "        )\n",
        "        self.branch2 = nn.Sequential(\n",
        "            BasicConv3d(832, 32, kernel_size=1, stride=1),\n",
        "            SepConv3d(32, 128, kernel_size=3, stride=1, padding=1),\n",
        "        )\n",
        "        self.branch3 = nn.Sequential(\n",
        "            nn.MaxPool3d(kernel_size=(3,3,3), stride=1, padding=1),\n",
        "            BasicConv3d(832, 128, kernel_size=1, stride=1),\n",
        "        )\n",
        " \n",
        "    def forward(self, x):\n",
        "        x0 = self.branch0(x)\n",
        "        x1 = self.branch1(x)\n",
        "        x2 = self.branch2(x)\n",
        "        x3 = self.branch3(x)\n",
        "        out = torch.cat((x0, x1, x2, x3), 1)\n",
        "        return out\n",
        " "
      ],
      "execution_count": 64,
      "outputs": []
    },
    {
      "cell_type": "code",
      "metadata": {
        "colab_type": "code",
        "id": "c4-rT9A70iB1",
        "colab": {}
      },
      "source": [
        "class Mixed_5c(nn.Module):\n",
        "    def __init__(self):\n",
        "        super(Mixed_5c, self).__init__()\n",
        " \n",
        "        self.branch0 = nn.Sequential(\n",
        "            BasicConv3d(832, 384, kernel_size=1, stride=1),\n",
        "        )\n",
        "        self.branch1 = nn.Sequential(\n",
        "            BasicConv3d(832, 192, kernel_size=1, stride=1),\n",
        "            SepConv3d(192, 384, kernel_size=3, stride=1, padding=1),\n",
        "        )\n",
        "        self.branch2 = nn.Sequential(\n",
        "            BasicConv3d(832, 48, kernel_size=1, stride=1),\n",
        "            SepConv3d(48, 128, kernel_size=3, stride=1, padding=1),\n",
        "        )\n",
        "        self.branch3 = nn.Sequential(\n",
        "            nn.MaxPool3d(kernel_size=(3,3,3), stride=1, padding=1),\n",
        "            BasicConv3d(832, 128, kernel_size=1, stride=1),\n",
        "        )\n",
        " \n",
        "    def forward(self, x):\n",
        "        x0 = self.branch0(x)\n",
        "        x1 = self.branch1(x)\n",
        "        x2 = self.branch2(x)\n",
        "        x3 = self.branch3(x)\n",
        "        out = torch.cat((x0, x1, x2, x3), 1)\n",
        "        return out"
      ],
      "execution_count": 65,
      "outputs": []
    },
    {
      "cell_type": "code",
      "metadata": {
        "colab_type": "code",
        "id": "8VHcY61g0ptj",
        "colab": {
          "base_uri": "https://localhost:8080/",
          "height": 1000
        },
        "outputId": "9c2b79cf-6748-4e48-920e-4291257ab808"
      },
      "source": [
        "from torchsummary import summary\n",
        "summary(S3D(10).cuda(), (3,16, 176, 128))\n"
      ],
      "execution_count": 66,
      "outputs": [
        {
          "output_type": "stream",
          "text": [
            "----------------------------------------------------------------\n",
            "        Layer (type)               Output Shape         Param #\n",
            "================================================================\n",
            "            Conv3d-1       [-1, 64, 16, 88, 64]           9,408\n",
            "       BatchNorm3d-2       [-1, 64, 16, 88, 64]             128\n",
            "              ReLU-3       [-1, 64, 16, 88, 64]               0\n",
            "            Conv3d-4        [-1, 64, 8, 88, 64]          28,672\n",
            "       BatchNorm3d-5        [-1, 64, 8, 88, 64]             128\n",
            "              ReLU-6        [-1, 64, 8, 88, 64]               0\n",
            "         SepConv3d-7        [-1, 64, 8, 88, 64]               0\n",
            "         MaxPool3d-8        [-1, 64, 8, 44, 32]               0\n",
            "            Conv3d-9        [-1, 64, 8, 44, 32]           4,096\n",
            "      BatchNorm3d-10        [-1, 64, 8, 44, 32]             128\n",
            "             ReLU-11        [-1, 64, 8, 44, 32]               0\n",
            "      BasicConv3d-12        [-1, 64, 8, 44, 32]               0\n",
            "           Conv3d-13       [-1, 192, 8, 44, 32]         110,592\n",
            "      BatchNorm3d-14       [-1, 192, 8, 44, 32]             384\n",
            "             ReLU-15       [-1, 192, 8, 44, 32]               0\n",
            "           Conv3d-16       [-1, 192, 8, 44, 32]         110,592\n",
            "      BatchNorm3d-17       [-1, 192, 8, 44, 32]             384\n",
            "             ReLU-18       [-1, 192, 8, 44, 32]               0\n",
            "        SepConv3d-19       [-1, 192, 8, 44, 32]               0\n",
            "        MaxPool3d-20       [-1, 192, 8, 22, 16]               0\n",
            "           Conv3d-21        [-1, 64, 8, 22, 16]          12,288\n",
            "      BatchNorm3d-22        [-1, 64, 8, 22, 16]             128\n",
            "             ReLU-23        [-1, 64, 8, 22, 16]               0\n",
            "      BasicConv3d-24        [-1, 64, 8, 22, 16]               0\n",
            "           Conv3d-25        [-1, 96, 8, 22, 16]          18,432\n",
            "      BatchNorm3d-26        [-1, 96, 8, 22, 16]             192\n",
            "             ReLU-27        [-1, 96, 8, 22, 16]               0\n",
            "      BasicConv3d-28        [-1, 96, 8, 22, 16]               0\n",
            "           Conv3d-29       [-1, 128, 8, 22, 16]         110,592\n",
            "      BatchNorm3d-30       [-1, 128, 8, 22, 16]             256\n",
            "             ReLU-31       [-1, 128, 8, 22, 16]               0\n",
            "           Conv3d-32       [-1, 128, 8, 22, 16]          49,152\n",
            "      BatchNorm3d-33       [-1, 128, 8, 22, 16]             256\n",
            "             ReLU-34       [-1, 128, 8, 22, 16]               0\n",
            "        SepConv3d-35       [-1, 128, 8, 22, 16]               0\n",
            "           Conv3d-36        [-1, 16, 8, 22, 16]           3,072\n",
            "      BatchNorm3d-37        [-1, 16, 8, 22, 16]              32\n",
            "             ReLU-38        [-1, 16, 8, 22, 16]               0\n",
            "      BasicConv3d-39        [-1, 16, 8, 22, 16]               0\n",
            "           Conv3d-40        [-1, 32, 8, 22, 16]           4,608\n",
            "      BatchNorm3d-41        [-1, 32, 8, 22, 16]              64\n",
            "             ReLU-42        [-1, 32, 8, 22, 16]               0\n",
            "           Conv3d-43        [-1, 32, 8, 22, 16]           3,072\n",
            "      BatchNorm3d-44        [-1, 32, 8, 22, 16]              64\n",
            "             ReLU-45        [-1, 32, 8, 22, 16]               0\n",
            "        SepConv3d-46        [-1, 32, 8, 22, 16]               0\n",
            "        MaxPool3d-47       [-1, 192, 8, 22, 16]               0\n",
            "           Conv3d-48        [-1, 32, 8, 22, 16]           6,144\n",
            "      BatchNorm3d-49        [-1, 32, 8, 22, 16]              64\n",
            "             ReLU-50        [-1, 32, 8, 22, 16]               0\n",
            "      BasicConv3d-51        [-1, 32, 8, 22, 16]               0\n",
            "         Mixed_3b-52       [-1, 256, 8, 22, 16]               0\n",
            "           Conv3d-53       [-1, 128, 8, 22, 16]          32,768\n",
            "      BatchNorm3d-54       [-1, 128, 8, 22, 16]             256\n",
            "             ReLU-55       [-1, 128, 8, 22, 16]               0\n",
            "      BasicConv3d-56       [-1, 128, 8, 22, 16]               0\n",
            "           Conv3d-57       [-1, 128, 8, 22, 16]          32,768\n",
            "      BatchNorm3d-58       [-1, 128, 8, 22, 16]             256\n",
            "             ReLU-59       [-1, 128, 8, 22, 16]               0\n",
            "      BasicConv3d-60       [-1, 128, 8, 22, 16]               0\n",
            "           Conv3d-61       [-1, 192, 8, 22, 16]         221,184\n",
            "      BatchNorm3d-62       [-1, 192, 8, 22, 16]             384\n",
            "             ReLU-63       [-1, 192, 8, 22, 16]               0\n",
            "           Conv3d-64       [-1, 192, 8, 22, 16]         110,592\n",
            "      BatchNorm3d-65       [-1, 192, 8, 22, 16]             384\n",
            "             ReLU-66       [-1, 192, 8, 22, 16]               0\n",
            "        SepConv3d-67       [-1, 192, 8, 22, 16]               0\n",
            "           Conv3d-68        [-1, 32, 8, 22, 16]           8,192\n",
            "      BatchNorm3d-69        [-1, 32, 8, 22, 16]              64\n",
            "             ReLU-70        [-1, 32, 8, 22, 16]               0\n",
            "      BasicConv3d-71        [-1, 32, 8, 22, 16]               0\n",
            "           Conv3d-72        [-1, 96, 8, 22, 16]          27,648\n",
            "      BatchNorm3d-73        [-1, 96, 8, 22, 16]             192\n",
            "             ReLU-74        [-1, 96, 8, 22, 16]               0\n",
            "           Conv3d-75        [-1, 96, 8, 22, 16]          27,648\n",
            "      BatchNorm3d-76        [-1, 96, 8, 22, 16]             192\n",
            "             ReLU-77        [-1, 96, 8, 22, 16]               0\n",
            "        SepConv3d-78        [-1, 96, 8, 22, 16]               0\n",
            "        MaxPool3d-79       [-1, 256, 8, 22, 16]               0\n",
            "           Conv3d-80        [-1, 64, 8, 22, 16]          16,384\n",
            "      BatchNorm3d-81        [-1, 64, 8, 22, 16]             128\n",
            "             ReLU-82        [-1, 64, 8, 22, 16]               0\n",
            "      BasicConv3d-83        [-1, 64, 8, 22, 16]               0\n",
            "         Mixed_3c-84       [-1, 480, 8, 22, 16]               0\n",
            "        MaxPool3d-85        [-1, 480, 4, 11, 8]               0\n",
            "           Conv3d-86        [-1, 192, 4, 11, 8]          92,160\n",
            "      BatchNorm3d-87        [-1, 192, 4, 11, 8]             384\n",
            "             ReLU-88        [-1, 192, 4, 11, 8]               0\n",
            "      BasicConv3d-89        [-1, 192, 4, 11, 8]               0\n",
            "           Conv3d-90         [-1, 96, 4, 11, 8]          46,080\n",
            "      BatchNorm3d-91         [-1, 96, 4, 11, 8]             192\n",
            "             ReLU-92         [-1, 96, 4, 11, 8]               0\n",
            "      BasicConv3d-93         [-1, 96, 4, 11, 8]               0\n",
            "           Conv3d-94        [-1, 208, 4, 11, 8]         179,712\n",
            "      BatchNorm3d-95        [-1, 208, 4, 11, 8]             416\n",
            "             ReLU-96        [-1, 208, 4, 11, 8]               0\n",
            "           Conv3d-97        [-1, 208, 4, 11, 8]         129,792\n",
            "      BatchNorm3d-98        [-1, 208, 4, 11, 8]             416\n",
            "             ReLU-99        [-1, 208, 4, 11, 8]               0\n",
            "       SepConv3d-100        [-1, 208, 4, 11, 8]               0\n",
            "          Conv3d-101         [-1, 16, 4, 11, 8]           7,680\n",
            "     BatchNorm3d-102         [-1, 16, 4, 11, 8]              32\n",
            "            ReLU-103         [-1, 16, 4, 11, 8]               0\n",
            "     BasicConv3d-104         [-1, 16, 4, 11, 8]               0\n",
            "          Conv3d-105         [-1, 48, 4, 11, 8]           6,912\n",
            "     BatchNorm3d-106         [-1, 48, 4, 11, 8]              96\n",
            "            ReLU-107         [-1, 48, 4, 11, 8]               0\n",
            "          Conv3d-108         [-1, 48, 4, 11, 8]           6,912\n",
            "     BatchNorm3d-109         [-1, 48, 4, 11, 8]              96\n",
            "            ReLU-110         [-1, 48, 4, 11, 8]               0\n",
            "       SepConv3d-111         [-1, 48, 4, 11, 8]               0\n",
            "       MaxPool3d-112        [-1, 480, 4, 11, 8]               0\n",
            "          Conv3d-113         [-1, 64, 4, 11, 8]          30,720\n",
            "     BatchNorm3d-114         [-1, 64, 4, 11, 8]             128\n",
            "            ReLU-115         [-1, 64, 4, 11, 8]               0\n",
            "     BasicConv3d-116         [-1, 64, 4, 11, 8]               0\n",
            "        Mixed_4b-117        [-1, 512, 4, 11, 8]               0\n",
            "          Conv3d-118        [-1, 160, 4, 11, 8]          81,920\n",
            "     BatchNorm3d-119        [-1, 160, 4, 11, 8]             320\n",
            "            ReLU-120        [-1, 160, 4, 11, 8]               0\n",
            "     BasicConv3d-121        [-1, 160, 4, 11, 8]               0\n",
            "          Conv3d-122        [-1, 112, 4, 11, 8]          57,344\n",
            "     BatchNorm3d-123        [-1, 112, 4, 11, 8]             224\n",
            "            ReLU-124        [-1, 112, 4, 11, 8]               0\n",
            "     BasicConv3d-125        [-1, 112, 4, 11, 8]               0\n",
            "          Conv3d-126        [-1, 224, 4, 11, 8]         225,792\n",
            "     BatchNorm3d-127        [-1, 224, 4, 11, 8]             448\n",
            "            ReLU-128        [-1, 224, 4, 11, 8]               0\n",
            "          Conv3d-129        [-1, 224, 4, 11, 8]         150,528\n",
            "     BatchNorm3d-130        [-1, 224, 4, 11, 8]             448\n",
            "            ReLU-131        [-1, 224, 4, 11, 8]               0\n",
            "       SepConv3d-132        [-1, 224, 4, 11, 8]               0\n",
            "          Conv3d-133         [-1, 24, 4, 11, 8]          12,288\n",
            "     BatchNorm3d-134         [-1, 24, 4, 11, 8]              48\n",
            "            ReLU-135         [-1, 24, 4, 11, 8]               0\n",
            "     BasicConv3d-136         [-1, 24, 4, 11, 8]               0\n",
            "          Conv3d-137         [-1, 64, 4, 11, 8]          13,824\n",
            "     BatchNorm3d-138         [-1, 64, 4, 11, 8]             128\n",
            "            ReLU-139         [-1, 64, 4, 11, 8]               0\n",
            "          Conv3d-140         [-1, 64, 4, 11, 8]          12,288\n",
            "     BatchNorm3d-141         [-1, 64, 4, 11, 8]             128\n",
            "            ReLU-142         [-1, 64, 4, 11, 8]               0\n",
            "       SepConv3d-143         [-1, 64, 4, 11, 8]               0\n",
            "       MaxPool3d-144        [-1, 512, 4, 11, 8]               0\n",
            "          Conv3d-145         [-1, 64, 4, 11, 8]          32,768\n",
            "     BatchNorm3d-146         [-1, 64, 4, 11, 8]             128\n",
            "            ReLU-147         [-1, 64, 4, 11, 8]               0\n",
            "     BasicConv3d-148         [-1, 64, 4, 11, 8]               0\n",
            "        Mixed_4c-149        [-1, 512, 4, 11, 8]               0\n",
            "          Conv3d-150        [-1, 128, 4, 11, 8]          65,536\n",
            "     BatchNorm3d-151        [-1, 128, 4, 11, 8]             256\n",
            "            ReLU-152        [-1, 128, 4, 11, 8]               0\n",
            "     BasicConv3d-153        [-1, 128, 4, 11, 8]               0\n",
            "          Conv3d-154        [-1, 128, 4, 11, 8]          65,536\n",
            "     BatchNorm3d-155        [-1, 128, 4, 11, 8]             256\n",
            "            ReLU-156        [-1, 128, 4, 11, 8]               0\n",
            "     BasicConv3d-157        [-1, 128, 4, 11, 8]               0\n",
            "          Conv3d-158        [-1, 256, 4, 11, 8]         294,912\n",
            "     BatchNorm3d-159        [-1, 256, 4, 11, 8]             512\n",
            "            ReLU-160        [-1, 256, 4, 11, 8]               0\n",
            "          Conv3d-161        [-1, 256, 4, 11, 8]         196,608\n",
            "     BatchNorm3d-162        [-1, 256, 4, 11, 8]             512\n",
            "            ReLU-163        [-1, 256, 4, 11, 8]               0\n",
            "       SepConv3d-164        [-1, 256, 4, 11, 8]               0\n",
            "          Conv3d-165         [-1, 24, 4, 11, 8]          12,288\n",
            "     BatchNorm3d-166         [-1, 24, 4, 11, 8]              48\n",
            "            ReLU-167         [-1, 24, 4, 11, 8]               0\n",
            "     BasicConv3d-168         [-1, 24, 4, 11, 8]               0\n",
            "          Conv3d-169         [-1, 64, 4, 11, 8]          13,824\n",
            "     BatchNorm3d-170         [-1, 64, 4, 11, 8]             128\n",
            "            ReLU-171         [-1, 64, 4, 11, 8]               0\n",
            "          Conv3d-172         [-1, 64, 4, 11, 8]          12,288\n",
            "     BatchNorm3d-173         [-1, 64, 4, 11, 8]             128\n",
            "            ReLU-174         [-1, 64, 4, 11, 8]               0\n",
            "       SepConv3d-175         [-1, 64, 4, 11, 8]               0\n",
            "       MaxPool3d-176        [-1, 512, 4, 11, 8]               0\n",
            "          Conv3d-177         [-1, 64, 4, 11, 8]          32,768\n",
            "     BatchNorm3d-178         [-1, 64, 4, 11, 8]             128\n",
            "            ReLU-179         [-1, 64, 4, 11, 8]               0\n",
            "     BasicConv3d-180         [-1, 64, 4, 11, 8]               0\n",
            "        Mixed_4d-181        [-1, 512, 4, 11, 8]               0\n",
            "          Conv3d-182        [-1, 112, 4, 11, 8]          57,344\n",
            "     BatchNorm3d-183        [-1, 112, 4, 11, 8]             224\n",
            "            ReLU-184        [-1, 112, 4, 11, 8]               0\n",
            "     BasicConv3d-185        [-1, 112, 4, 11, 8]               0\n",
            "          Conv3d-186        [-1, 144, 4, 11, 8]          73,728\n",
            "     BatchNorm3d-187        [-1, 144, 4, 11, 8]             288\n",
            "            ReLU-188        [-1, 144, 4, 11, 8]               0\n",
            "     BasicConv3d-189        [-1, 144, 4, 11, 8]               0\n",
            "          Conv3d-190        [-1, 288, 4, 11, 8]         373,248\n",
            "     BatchNorm3d-191        [-1, 288, 4, 11, 8]             576\n",
            "            ReLU-192        [-1, 288, 4, 11, 8]               0\n",
            "          Conv3d-193        [-1, 288, 4, 11, 8]         248,832\n",
            "     BatchNorm3d-194        [-1, 288, 4, 11, 8]             576\n",
            "            ReLU-195        [-1, 288, 4, 11, 8]               0\n",
            "       SepConv3d-196        [-1, 288, 4, 11, 8]               0\n",
            "          Conv3d-197         [-1, 32, 4, 11, 8]          16,384\n",
            "     BatchNorm3d-198         [-1, 32, 4, 11, 8]              64\n",
            "            ReLU-199         [-1, 32, 4, 11, 8]               0\n",
            "     BasicConv3d-200         [-1, 32, 4, 11, 8]               0\n",
            "          Conv3d-201         [-1, 64, 4, 11, 8]          18,432\n",
            "     BatchNorm3d-202         [-1, 64, 4, 11, 8]             128\n",
            "            ReLU-203         [-1, 64, 4, 11, 8]               0\n",
            "          Conv3d-204         [-1, 64, 4, 11, 8]          12,288\n",
            "     BatchNorm3d-205         [-1, 64, 4, 11, 8]             128\n",
            "            ReLU-206         [-1, 64, 4, 11, 8]               0\n",
            "       SepConv3d-207         [-1, 64, 4, 11, 8]               0\n",
            "       MaxPool3d-208        [-1, 512, 4, 11, 8]               0\n",
            "          Conv3d-209         [-1, 64, 4, 11, 8]          32,768\n",
            "     BatchNorm3d-210         [-1, 64, 4, 11, 8]             128\n",
            "            ReLU-211         [-1, 64, 4, 11, 8]               0\n",
            "     BasicConv3d-212         [-1, 64, 4, 11, 8]               0\n",
            "        Mixed_4e-213        [-1, 528, 4, 11, 8]               0\n",
            "          Conv3d-214        [-1, 256, 4, 11, 8]         135,168\n",
            "     BatchNorm3d-215        [-1, 256, 4, 11, 8]             512\n",
            "            ReLU-216        [-1, 256, 4, 11, 8]               0\n",
            "     BasicConv3d-217        [-1, 256, 4, 11, 8]               0\n",
            "          Conv3d-218        [-1, 160, 4, 11, 8]          84,480\n",
            "     BatchNorm3d-219        [-1, 160, 4, 11, 8]             320\n",
            "            ReLU-220        [-1, 160, 4, 11, 8]               0\n",
            "     BasicConv3d-221        [-1, 160, 4, 11, 8]               0\n",
            "          Conv3d-222        [-1, 320, 4, 11, 8]         460,800\n",
            "     BatchNorm3d-223        [-1, 320, 4, 11, 8]             640\n",
            "            ReLU-224        [-1, 320, 4, 11, 8]               0\n",
            "          Conv3d-225        [-1, 320, 4, 11, 8]         307,200\n",
            "     BatchNorm3d-226        [-1, 320, 4, 11, 8]             640\n",
            "            ReLU-227        [-1, 320, 4, 11, 8]               0\n",
            "       SepConv3d-228        [-1, 320, 4, 11, 8]               0\n",
            "          Conv3d-229         [-1, 32, 4, 11, 8]          16,896\n",
            "     BatchNorm3d-230         [-1, 32, 4, 11, 8]              64\n",
            "            ReLU-231         [-1, 32, 4, 11, 8]               0\n",
            "     BasicConv3d-232         [-1, 32, 4, 11, 8]               0\n",
            "          Conv3d-233        [-1, 128, 4, 11, 8]          36,864\n",
            "     BatchNorm3d-234        [-1, 128, 4, 11, 8]             256\n",
            "            ReLU-235        [-1, 128, 4, 11, 8]               0\n",
            "          Conv3d-236        [-1, 128, 4, 11, 8]          49,152\n",
            "     BatchNorm3d-237        [-1, 128, 4, 11, 8]             256\n",
            "            ReLU-238        [-1, 128, 4, 11, 8]               0\n",
            "       SepConv3d-239        [-1, 128, 4, 11, 8]               0\n",
            "       MaxPool3d-240        [-1, 528, 4, 11, 8]               0\n",
            "          Conv3d-241        [-1, 128, 4, 11, 8]          67,584\n",
            "     BatchNorm3d-242        [-1, 128, 4, 11, 8]             256\n",
            "            ReLU-243        [-1, 128, 4, 11, 8]               0\n",
            "     BasicConv3d-244        [-1, 128, 4, 11, 8]               0\n",
            "        Mixed_4f-245        [-1, 832, 4, 11, 8]               0\n",
            "       MaxPool3d-246         [-1, 832, 2, 5, 4]               0\n",
            "          Conv3d-247         [-1, 256, 2, 5, 4]         212,992\n",
            "     BatchNorm3d-248         [-1, 256, 2, 5, 4]             512\n",
            "            ReLU-249         [-1, 256, 2, 5, 4]               0\n",
            "     BasicConv3d-250         [-1, 256, 2, 5, 4]               0\n",
            "          Conv3d-251         [-1, 160, 2, 5, 4]         133,120\n",
            "     BatchNorm3d-252         [-1, 160, 2, 5, 4]             320\n",
            "            ReLU-253         [-1, 160, 2, 5, 4]               0\n",
            "     BasicConv3d-254         [-1, 160, 2, 5, 4]               0\n",
            "          Conv3d-255         [-1, 320, 2, 5, 4]         460,800\n",
            "     BatchNorm3d-256         [-1, 320, 2, 5, 4]             640\n",
            "            ReLU-257         [-1, 320, 2, 5, 4]               0\n",
            "          Conv3d-258         [-1, 320, 2, 5, 4]         307,200\n",
            "     BatchNorm3d-259         [-1, 320, 2, 5, 4]             640\n",
            "            ReLU-260         [-1, 320, 2, 5, 4]               0\n",
            "       SepConv3d-261         [-1, 320, 2, 5, 4]               0\n",
            "          Conv3d-262          [-1, 32, 2, 5, 4]          26,624\n",
            "     BatchNorm3d-263          [-1, 32, 2, 5, 4]              64\n",
            "            ReLU-264          [-1, 32, 2, 5, 4]               0\n",
            "     BasicConv3d-265          [-1, 32, 2, 5, 4]               0\n",
            "          Conv3d-266         [-1, 128, 2, 5, 4]          36,864\n",
            "     BatchNorm3d-267         [-1, 128, 2, 5, 4]             256\n",
            "            ReLU-268         [-1, 128, 2, 5, 4]               0\n",
            "          Conv3d-269         [-1, 128, 2, 5, 4]          49,152\n",
            "     BatchNorm3d-270         [-1, 128, 2, 5, 4]             256\n",
            "            ReLU-271         [-1, 128, 2, 5, 4]               0\n",
            "       SepConv3d-272         [-1, 128, 2, 5, 4]               0\n",
            "       MaxPool3d-273         [-1, 832, 2, 5, 4]               0\n",
            "          Conv3d-274         [-1, 128, 2, 5, 4]         106,496\n",
            "     BatchNorm3d-275         [-1, 128, 2, 5, 4]             256\n",
            "            ReLU-276         [-1, 128, 2, 5, 4]               0\n",
            "     BasicConv3d-277         [-1, 128, 2, 5, 4]               0\n",
            "        Mixed_5b-278         [-1, 832, 2, 5, 4]               0\n",
            "          Conv3d-279         [-1, 384, 2, 5, 4]         319,488\n",
            "     BatchNorm3d-280         [-1, 384, 2, 5, 4]             768\n",
            "            ReLU-281         [-1, 384, 2, 5, 4]               0\n",
            "     BasicConv3d-282         [-1, 384, 2, 5, 4]               0\n",
            "          Conv3d-283         [-1, 192, 2, 5, 4]         159,744\n",
            "     BatchNorm3d-284         [-1, 192, 2, 5, 4]             384\n",
            "            ReLU-285         [-1, 192, 2, 5, 4]               0\n",
            "     BasicConv3d-286         [-1, 192, 2, 5, 4]               0\n",
            "          Conv3d-287         [-1, 384, 2, 5, 4]         663,552\n",
            "     BatchNorm3d-288         [-1, 384, 2, 5, 4]             768\n",
            "            ReLU-289         [-1, 384, 2, 5, 4]               0\n",
            "          Conv3d-290         [-1, 384, 2, 5, 4]         442,368\n",
            "     BatchNorm3d-291         [-1, 384, 2, 5, 4]             768\n",
            "            ReLU-292         [-1, 384, 2, 5, 4]               0\n",
            "       SepConv3d-293         [-1, 384, 2, 5, 4]               0\n",
            "          Conv3d-294          [-1, 48, 2, 5, 4]          39,936\n",
            "     BatchNorm3d-295          [-1, 48, 2, 5, 4]              96\n",
            "            ReLU-296          [-1, 48, 2, 5, 4]               0\n",
            "     BasicConv3d-297          [-1, 48, 2, 5, 4]               0\n",
            "          Conv3d-298         [-1, 128, 2, 5, 4]          55,296\n",
            "     BatchNorm3d-299         [-1, 128, 2, 5, 4]             256\n",
            "            ReLU-300         [-1, 128, 2, 5, 4]               0\n",
            "          Conv3d-301         [-1, 128, 2, 5, 4]          49,152\n",
            "     BatchNorm3d-302         [-1, 128, 2, 5, 4]             256\n",
            "            ReLU-303         [-1, 128, 2, 5, 4]               0\n",
            "       SepConv3d-304         [-1, 128, 2, 5, 4]               0\n",
            "       MaxPool3d-305         [-1, 832, 2, 5, 4]               0\n",
            "          Conv3d-306         [-1, 128, 2, 5, 4]         106,496\n",
            "     BatchNorm3d-307         [-1, 128, 2, 5, 4]             256\n",
            "            ReLU-308         [-1, 128, 2, 5, 4]               0\n",
            "     BasicConv3d-309         [-1, 128, 2, 5, 4]               0\n",
            "        Mixed_5c-310        [-1, 1024, 2, 5, 4]               0\n",
            "          Conv3d-311          [-1, 10, 1, 1, 1]          10,250\n",
            "================================================================\n",
            "Total params: 7,920,298\n",
            "Trainable params: 7,920,298\n",
            "Non-trainable params: 0\n",
            "----------------------------------------------------------------\n",
            "Input size (MB): 4.12\n",
            "Forward/backward pass size (MB): 581.73\n",
            "Params size (MB): 30.21\n",
            "Estimated Total Size (MB): 616.07\n",
            "----------------------------------------------------------------\n"
          ],
          "name": "stdout"
        }
      ]
    },
    {
      "cell_type": "code",
      "metadata": {
        "id": "FR7g9zk6V7bd",
        "colab_type": "code",
        "colab": {}
      },
      "source": [
        "from PIL import Image\n",
        "import torchvision.transforms as T\n",
        "import albumentations\n",
        "\n",
        "\n",
        "def augmentation(aug,frame):\n",
        "  frame=aug(image=np.array(frame))['image']\n",
        "  return frame\n",
        "\n",
        "class MyDataLoader(Dataset):\n",
        "  def __init__(self,X,y,root_dir,par,transform=None):\n",
        "    self.X=X\n",
        "    self.y=y\n",
        "    self.root_dir=root_dir\n",
        "    self.transform=T.Compose([\n",
        "                                       T.ToTensor(),\n",
        "                                       T.Normalize([0.485, 0.456, 0.406],[0.229, 0.224, 0.225])\n",
        "                                       ])\n",
        "    self.par=par\n",
        "    if (par==1):\n",
        "      self.aug = albumentations.Compose([\n",
        "                albumentations.HorizontalFlip(p=0.5),\n",
        "                albumentations.ShiftScaleRotate(\n",
        "                    shift_limit=0.3,\n",
        "                    scale_limit=0.3,\n",
        "                    rotate_limit=15,\n",
        "                    p=0.5\n",
        "                ),\n",
        "                albumentations.augmentations.transforms.RandomBrightnessContrast(p=0.5),\n",
        "                albumentations.augmentations.transforms.CenterCrop(150,120,p=1),\n",
        "                \n",
        "            ])\n",
        "    else:\n",
        "      self.aug = albumentations.Compose([\n",
        "                albumentations.augmentations.transforms.CenterCrop(150,120,p=1),\n",
        "                \n",
        "                \n",
        "            ])\n",
        "    self.ok=[]\n",
        "    self.okLab=[]\n",
        "    return\n",
        "\n",
        "  def __len__(self):\n",
        "    return len(self.X)\n",
        "  \n",
        "  def __getitem__(self,index):\n",
        "    fname=self.root_dir+self.X[index]+\".mp4\"\n",
        "    self.ok.append(self.X[index])\n",
        "    self.okLab.append(self.y[index])\n",
        "    video=cv2.VideoCapture(fname)\n",
        "    image=[]\n",
        "    r,g,b=[],[],[]\n",
        "    while True:\n",
        "      # Capture frame-by-frame\n",
        "      ret , frame=video.read()\n",
        "      if ret:\n",
        "        frame= cv2.cvtColor(frame,cv2.COLOR_BGR2RGB)\n",
        "        frame= cv2.GaussianBlur(frame, (5, 5), 0)\n",
        "        frame=augmentation(self.aug,frame)\n",
        "        frame= self.transform(frame)\n",
        "        r1 = frame[0]\n",
        "        g1 = frame[1]\n",
        "        b1 = frame[2]\n",
        "        r1=r1.unsqueeze(0)\n",
        "        g1=g1.unsqueeze(0)\n",
        "        b1=b1.unsqueeze(0)\n",
        "        r.append(r1)\n",
        "        g.append(g1)\n",
        "        b.append(b1)\n",
        "      else:\n",
        "        break\n",
        "    r=torch.cat(r)\n",
        "    g=torch.cat(g)\n",
        "    b=torch.cat(b)\n",
        "    image=torch.stack((r,g,b),dim=0)\n",
        "    return image, self.y[index]\n",
        " \n"
      ],
      "execution_count": 67,
      "outputs": []
    },
    {
      "cell_type": "code",
      "metadata": {
        "id": "PG-KsIr3CDvm",
        "colab_type": "code",
        "colab": {
          "base_uri": "https://localhost:8080/",
          "height": 323
        },
        "outputId": "1d15df73-7ae1-48a1-b61d-0ab28e4ef43a"
      },
      "source": [
        "transform=T.Compose([\n",
        "                                       T.ToTensor(),\n",
        "                                       T.Normalize([0.485, 0.456, 0.406],[0.229, 0.224, 0.225])\n",
        "                                       ])\n",
        "aug = albumentations.Compose([\n",
        "                albumentations.HorizontalFlip(p=0.5),\n",
        "                albumentations.ShiftScaleRotate(\n",
        "                    shift_limit=0.3,\n",
        "                    scale_limit=0.3,\n",
        "                    rotate_limit=15,\n",
        "                    p=0.5\n",
        "                ),\n",
        "                albumentations.augmentations.transforms.RandomBrightnessContrast(p=0.5),\n",
        "                albumentations.augmentations.transforms.CenterCrop(150,120,p=1)\n",
        "               \n",
        "                \n",
        "            ])\n",
        "image = []\n",
        "r,g,b=[],[],[]          \n",
        "fname = os.path.join(DATASET_FILES, '0018414.mp4')\n",
        "video = cv2.VideoCapture(fname)\n",
        "while True:\n",
        "  ret , frame=video.read()\n",
        "  if ret:\n",
        "    frame= cv2.cvtColor(frame,cv2.COLOR_BGR2RGB)\n",
        "    image.append(frame)\n",
        "    frame= cv2.GaussianBlur(frame, (5, 5), 0)\n",
        "    frame=augmentation(aug,frame)\n",
        "    frame= transform(frame)\n",
        "    r1 = frame[0]\n",
        "    g1 = frame[1]\n",
        "    b1 = frame[2]\n",
        "    r1=r1.unsqueeze(0)\n",
        "    g1=g1.unsqueeze(0)\n",
        "    b1=b1.unsqueeze(0)\n",
        "    r.append(r1)\n",
        "    g.append(g1)\n",
        "    b.append(b1)\n",
        "  else:\n",
        "    break\n",
        "r=torch.cat(r)\n",
        "g=torch.cat(g)\n",
        "b=torch.cat(b)\n",
        "\n",
        "\n",
        "fig, axs = plt.subplots(2, 2, figsize=(5, 5))\n",
        "axs[0,0].imshow(image[0])\n",
        "axs[0,1].imshow(r[0].numpy())\n",
        "axs[1,0].imshow(g[0].numpy())\n",
        "axs[1,1].imshow(b[0].numpy())\n",
        "\n",
        "plt.show()"
      ],
      "execution_count": 70,
      "outputs": [
        {
          "output_type": "display_data",
          "data": {
            "image/png": "[encoded data removed]",
            "text/plain": [
              "<Figure size 360x360 with 4 Axes>"
            ]
          },
          "metadata": {
            "tags": [],
            "needs_background": "light"
          }
        }
      ]
    },
    {
      "cell_type": "code",
      "metadata": {
        "id": "29Y4kBdFM6oW",
        "colab_type": "code",
        "colab": {}
      },
      "source": [
        "def train(epoch,steps,print_every,trainLoader,s):#\n",
        "    train_loss=[]\n",
        "    running_loss = 0\n",
        " \n",
        "    for batch_idx, (inputs, labels) in enumerate(trainLoader): \n",
        "        inputs,labels= inputs.to(device), labels.to(device)\n",
        "        logps = model(inputs)\n",
        "        loss = criterion(logps, labels)\n",
        "        optimizer.zero_grad()\n",
        "        loss.backward()\n",
        "        optimizer.step()\n",
        "        running_loss += loss.item()\n",
        "        \n",
        "        if (batch_idx+1) % print_every == 0:\n",
        "            s.append('Epoch [{}/{}], Step [{}/{}], Loss: {:.6f}' \n",
        "                   .format(epoch, epochs, batch_idx+1, steps, running_loss/(batch_idx*batch_size) ))\n",
        "            print('Epoch [{}/{}], Step [{}/{}], Loss: {:.6f}' \n",
        "                   .format(epoch, epochs, batch_idx+1, steps, running_loss/(batch_idx*batch_size)))\n",
        " \n",
        "        train_loss.append(loss.item())\n",
        "    return np.mean(train_loss)/len(trainLoader)"
      ],
      "execution_count": 147,
      "outputs": []
    },
    {
      "cell_type": "code",
      "metadata": {
        "id": "Zg-IAKqaM6oa",
        "colab_type": "code",
        "colab": {}
      },
      "source": [
        "def val(model,valLoader,s,ret):\n",
        "    val_loss = 0\n",
        "    tp = 0\n",
        "    \n",
        "    with torch.no_grad():\n",
        "        for batch_idx, (inputs, labels) in enumerate(valLoader):\n",
        "            inputs, labels = inputs.to(device), labels.to(device)\n",
        "            logps = model(inputs)\n",
        "            ret+=logps\n",
        "            _, predicted = torch.max(logps, 1)\n",
        "            tp += (predicted == labels).sum().item()\n",
        "            loss = criterion(logps,labels)\n",
        "            val_loss += loss.item()\n",
        "        val_loss /= len(valLoader.dataset)\n",
        "        \n",
        "        s.append('\\nVal set: Avg. loss: {:.6f}, Accuracy: {}/{} ({:.0f}%)\\n'.format(\n",
        "        val_loss, tp, len(valLoader.dataset),\n",
        "        100. * tp / len(valLoader.dataset)))\n",
        "        print('\\nVal set: Avg. loss: {:.6f}, Accuracy: {}/{} ({:.0f}%)\\n'.format(\n",
        "        val_loss, tp, len(valLoader.dataset),\n",
        "        100. * tp / len(valLoader.dataset)))\n",
        "        \n",
        "    return val_loss,tp / len(valLoader.dataset)"
      ],
      "execution_count": 148,
      "outputs": []
    },
    {
      "cell_type": "code",
      "metadata": {
        "id": "TLgtVgyaM6od",
        "colab_type": "code",
        "colab": {}
      },
      "source": [
        "def test(model,testLoader,criterion):\n",
        "    test_loss = 0\n",
        "    accuracy = 0\n",
        "    test_losses=[]\n",
        "    predictions=[]\n",
        "    tp=[]\n",
        "    \n",
        "    with torch.no_grad():\n",
        "        for batch_idx, (inputs, labels) in enumerate(testLoader):\n",
        "            inputs, labels= inputs.to(device), labels.to(device)   \n",
        "            tp+=labels\n",
        "            logps = model(inputs)\n",
        "            _, predicted = torch.max(logps, 1)\n",
        "            predictions+=predicted\n",
        "            accuracy += (predicted == labels).sum().item()\n",
        "            loss = criterion(logps,labels)\n",
        "            test_loss += loss.item()\n",
        "            \n",
        "        test_loss /= len(testLoader.dataset)\n",
        "        test_losses.append(test_loss)\n",
        "        \n",
        "    return np.mean(test_losses),accuracy_score(np.array(tp).astype(int),np.array(predictions).astype(int))"
      ],
      "execution_count": 149,
      "outputs": []
    },
    {
      "cell_type": "code",
      "metadata": {
        "colab_type": "code",
        "id": "5R5Gj-7nBIbN",
        "colab": {}
      },
      "source": [
        "def model():\n",
        "  modello=S3D(10)\n",
        "  modello.cuda()\n",
        "  modello.to(device)\n",
        "  return modello\n",
        "\n",
        "\n",
        "def checkP(model,epoch,optimizer,criterion,train_loss,val_loss,val_accs,strings,out,name):\n",
        "  torch.save({\n",
        "            'epoch': epoch,\n",
        "            'model_state_dict': model.state_dict(),\n",
        "            'optimizer_state_dict': optimizer.state_dict(),\n",
        "            'criterion':criterion,\n",
        "            'train_loss':train_loss,\n",
        "            'val_loss':val_loss,\n",
        "            'val_accs':val_accs,\n",
        "            'strings':strings,\n",
        "            'out':out\n",
        "            }, PATH+name+\".model\")\n",
        "  \n",
        "def loadP(file):\n",
        "  modello=model()\n",
        "  checkpoint = torch.load(PATH+file+\".model\")\n",
        "  optimizer = torch.optim.Adam(modello.parameters())\n",
        "  modello.load_state_dict(checkpoint['model_state_dict'])\n",
        "  optimizer.load_state_dict(checkpoint['optimizer_state_dict'])\n",
        "  epoch = checkpoint['epoch']\n",
        "  criterion = checkpoint['criterion']\n",
        "  train_loss = checkpoint['train_loss']\n",
        "  val_loss = checkpoint['val_loss']\n",
        "  val_accs = checkpoint['val_accs']\n",
        "  strings=checkpoint['strings']\n",
        "  out=checkpoint['out']\n",
        "  return modello,epoch,optimizer,criterion,train_loss,val_loss,val_accs,strings,out"
      ],
      "execution_count": 150,
      "outputs": []
    },
    {
      "cell_type": "code",
      "metadata": {
        "id": "_oZTw-J8M6ol",
        "colab_type": "code",
        "colab": {}
      },
      "source": [
        "from sklearn.metrics import confusion_matrix\n",
        "import seaborn as sns \n",
        "\n",
        "def classify(model,test_loader,criterion):\n",
        "    test_loss,test_accs=test(model,test_loader,criterion)\n",
        "    print(\"La loss sul test vale \",round(test_loss,3))\n",
        "    print(\"L'accuratezza del test vale\", round(test_accs*100,2),\"%\")\n",
        "    predictions=[]\n",
        "    tl=[]\n",
        "    with torch.no_grad():\n",
        "        for batch_idx, (images, labels) in enumerate(test_loader):\n",
        "            images,labels = images.to(device),labels.to(device)\n",
        "            out = model(images)\n",
        "            _, predicted = torch.max(out, 1)\n",
        "            predictions+=[torch.Tensor.cpu(i).detach() for i in predicted]\n",
        "            tl+=[torch.Tensor.cpu(j).detach() for j in labels]\n",
        "    return np.array(predictions), np.array(tl)\n",
        "\n",
        "def graficoL(train_loss,val_loss):\n",
        "    plt.plot(range(len(train_loss)),train_loss, label='Training loss')\n",
        "    plt.plot(range(len(val_loss)),val_loss, label='Validation loss')\n",
        "    plt.legend(frameon=False)\n",
        "    plt.show() \n",
        "\n",
        "\n",
        "def plot_confusion_matrix(matrix):\n",
        "    fig = plt.figure(figsize=(8,8))\n",
        "    ax = fig.add_subplot(111)\n",
        "    sns.heatmap(matrix, \n",
        "                annot=True,  \n",
        "                cmap=\"YlGnBu\")\n",
        "    plt.show()"
      ],
      "execution_count": 145,
      "outputs": []
    },
    {
      "cell_type": "code",
      "metadata": {
        "id": "VQBnDYHGM6oo",
        "colab_type": "code",
        "colab": {}
      },
      "source": [
        "def start(learning_rate):\n",
        "    modello,startEpoch,criterion=model(),1,nn.CrossEntropyLoss()\n",
        "    optimizer=torch.optim.Adam(modello.parameters(), lr=learning_rate)\n",
        "    return modello,startEpoch,optimizer,criterion\n",
        "\n",
        "def restart(fname):\n",
        "    model,startEpoch,optimizer,criterion,train_loss,val_loss,val_accs,s,output=loadP(fname)\n",
        "    print(\"Carico il modello!\")\n",
        "    return model,startEpoch,optimizer,criterion,train_loss,val_loss,val_accs,s,output\n",
        "\n",
        "def salva(model,epoch,optimizer,criterion,train_loss,val_loss,val_accs,s,output,FNAME):\n",
        "     checkP(model,epoch,optimizer,criterion,train_loss,val_loss,val_accs,s,output,FNAME)\n",
        "     print(\"Salvato!\")\n",
        "    \n",
        "        "
      ],
      "execution_count": 127,
      "outputs": []
    },
    {
      "cell_type": "code",
      "metadata": {
        "id": "q54JzGLFgIqW",
        "colab_type": "code",
        "colab": {}
      },
      "source": [
        "!cp -f 'drive/My Drive/ProgettoCV204898/S3D_Kinetics400.model' ./"
      ],
      "execution_count": 77,
      "outputs": []
    },
    {
      "cell_type": "code",
      "metadata": {
        "id": "24gCsSBPnXfb",
        "colab_type": "code",
        "colab": {}
      },
      "source": [
        "from collections import OrderedDict\n",
        "\n",
        "def tLearning():\n",
        "  model = S3D(400)\n",
        "  state_dict = torch.load(\"./S3D_Kinetics400.model\")\n",
        "  # create new OrderedDict that does not contain `module.`\n",
        "  from collections import OrderedDict\n",
        "  new_state_dict = OrderedDict()\n",
        " \n",
        "  for k, v in state_dict.items():\n",
        "      name = k[7:] # remove `module.`\n",
        "      new_state_dict[name] = v\n",
        " \n",
        "  model.load_state_dict(new_state_dict)\n",
        "  model = model.cuda()\n",
        "  torch.backends.cudnn.benchmark = False\n",
        " \n",
        "  model.fc=nn.Sequential(\n",
        "      nn.Conv3d(1024, 10, kernel_size=1, stride=1, bias=True))\n",
        " \n",
        "  model_dict = model.state_dict()\n",
        "\n",
        "  return model"
      ],
      "execution_count": 128,
      "outputs": []
    },
    {
      "cell_type": "code",
      "metadata": {
        "id": "09Pwd-fVM6ot",
        "colab_type": "code",
        "colab": {
          "base_uri": "https://localhost:8080/",
          "height": 235
        },
        "outputId": "873dae4b-f6d9-4083-9ca0-8fa99c37c506"
      },
      "source": [
        "from sys import exit\n",
        "\n",
        "RESTORE=True\n",
        "FNAME=\"m13\"\n",
        "epochs=30\n",
        "batch_size=32\n",
        "learning_rate=0.0001\n",
        "print_every=100\n",
        "s=[]\n",
        "output=[]\n",
        "train_loss = []\n",
        "val_loss = []\n",
        "val_accs=[]\n",
        "\n",
        "\n",
        "if not RESTORE:\n",
        "    model,startEpoch,criterion=tLearning(),1,nn.CrossEntropyLoss()\n",
        "    optimizer=torch.optim.Adam(model.parameters(), lr=learning_rate)   \n",
        "else:\n",
        "    model,startEpoch,optimizer,criterion,train_loss,val_loss,val_accs,s,output=restart(FNAME)\n",
        "    optimizer=torch.optim.Adam(model.parameters(), lr=learning_rate) \n",
        "\n",
        "trainLoader= DataLoader(dataset=MyDataLoader(X_train,y_train,DATASET_FILES,1),batch_size=batch_size)\n",
        "valLoader=DataLoader(dataset=MyDataLoader(X_val,y_val,DATASET_FILES,0),batch_size=batch_size)\n",
        "model=model.to(device)\n",
        "epoch=0\n",
        "\n",
        "try:\n",
        "    x=[]\n",
        "    val(model,valLoader,s,x)\n",
        "    step=len(trainLoader)\n",
        "    output.append(x)\n",
        "    for epoch in range(startEpoch,epochs):\n",
        "            outx=[]\n",
        "            sx=[]\n",
        "            train_loss1=train(epoch,step,print_every,trainLoader,sx)\n",
        "            val_loss1,val_accs1=val(model,valLoader,sx,outx)\n",
        "            train_loss.append(train_loss1)\n",
        "            val_loss.append(val_loss1)\n",
        "            val_accs.append(val_accs1) \n",
        "            output.append(outx)\n",
        "            s+=sx\n",
        "    \n",
        "except KeyboardInterrupt: \n",
        "    salva(model,epoch,optimizer,criterion,train_loss,val_loss,val_accs,s,output,FNAME+str(epoch))\n",
        "    exit(\"Salvataggio modello all'epoca \"+str(epoch))\n",
        "    \n",
        "    \n",
        "\n",
        "salva(model,epoch,optimizer,criterion,train_loss,val_loss,val_accs,s,output,FNAME)\n",
        "  "
      ],
      "execution_count": 80,
      "outputs": [
        {
          "output_type": "stream",
          "text": [
            "Carico il modello!\n",
            "\n",
            "Val set: Avg. loss: 0.018938, Accuracy: 416/520 (80%)\n",
            "\n",
            "Salvato!\n"
          ],
          "name": "stdout"
        },
        {
          "output_type": "error",
          "ename": "SystemExit",
          "evalue": "ignored",
          "traceback": [
            "An exception has occurred, use %tb to see the full traceback.\n",
            "\u001b[0;31mSystemExit\u001b[0m\u001b[0;31m:\u001b[0m Salvataggio modello all'epoca 13\n"
          ]
        },
        {
          "output_type": "stream",
          "text": [
            "/usr/local/lib/python3.6/dist-packages/IPython/core/interactiveshell.py:2890: UserWarning: To exit: use 'exit', 'quit', or Ctrl-D.\n",
            "  warn(\"To exit: use 'exit', 'quit', or Ctrl-D.\", stacklevel=1)\n"
          ],
          "name": "stderr"
        }
      ]
    },
    {
      "cell_type": "code",
      "metadata": {
        "id": "Czj7Gz-kyXsh",
        "colab_type": "code",
        "colab": {}
      },
      "source": [
        "!cp -f 'drive/My Drive/ProgettoCV204898/m12.model' ./\n",
        "!cp -f 'drive/My Drive/ProgettoCV204898/m13.model' ./"
      ],
      "execution_count": 81,
      "outputs": []
    },
    {
      "cell_type": "code",
      "metadata": {
        "id": "tlrez47bN1Er",
        "colab_type": "code",
        "colab": {
          "base_uri": "https://localhost:8080/",
          "height": 283
        },
        "outputId": "d1553f62-f858-42de-dc61-7f05fc02e7c4"
      },
      "source": [
        "model,startEpoch,optimizer,criterion,train_loss,val_loss,val_accs,s,output=restart('m12')\n",
        "graficoL(train_loss,val_loss)"
      ],
      "execution_count": 146,
      "outputs": [
        {
          "output_type": "stream",
          "text": [
            "Carico il modello!\n"
          ],
          "name": "stdout"
        },
        {
          "output_type": "display_data",
          "data": {
            "image/png": "[encoded data removed]",
            "text/plain": [
              "<Figure size 432x288 with 1 Axes>"
            ]
          },
          "metadata": {
            "tags": [],
            "needs_background": "light"
          }
        }
      ]
    },
    {
      "cell_type": "code",
      "metadata": {
        "id": "vg_ycTAJOSab",
        "colab_type": "code",
        "colab": {
          "base_uri": "https://localhost:8080/",
          "height": 283
        },
        "outputId": "e920f827-f46e-420e-fd02-cbe0f077cdd0"
      },
      "source": [
        "model,startEpoch,optimizer,criterion,train_loss,val_loss,val_accs,s,output=restart('m13')\n",
        "graficoL(train_loss,val_loss)"
      ],
      "execution_count": 151,
      "outputs": [
        {
          "output_type": "stream",
          "text": [
            "Carico il modello!\n"
          ],
          "name": "stdout"
        },
        {
          "output_type": "display_data",
          "data": {
            "image/png": "[encoded data removed]",
            "text/plain": [
              "<Figure size 432x288 with 1 Axes>"
            ]
          },
          "metadata": {
            "tags": [],
            "needs_background": "light"
          }
        }
      ]
    },
    {
      "cell_type": "code",
      "metadata": {
        "id": "nhVwVD1OM6ow",
        "colab_type": "code",
        "colab": {
          "base_uri": "https://localhost:8080/",
          "height": 69
        },
        "outputId": "46f8d681-75b3-442d-d465-942382bbfa6e"
      },
      "source": [
        "model,startEpoch,optimizer,criterion,train_loss,val_loss,val_accs,s,output=restart('m13')\n",
        "testLoader=DataLoader(dataset=MyDataLoader(X_test,y_test,DATASET_FILES,0),batch_size=32)\n",
        "y_true,y_pred=classify(model,testLoader,criterion)\n"
      ],
      "execution_count": 105,
      "outputs": [
        {
          "output_type": "stream",
          "text": [
            "Carico il modello!\n",
            "La loss sul test vale  0.018\n",
            "L'accuratezza del test vale 81.22 %\n"
          ],
          "name": "stdout"
        }
      ]
    },
    {
      "cell_type": "code",
      "metadata": {
        "id": "0XlaLDicaw3r",
        "colab_type": "code",
        "colab": {
          "base_uri": "https://localhost:8080/",
          "height": 312
        },
        "outputId": "d8843f6e-62dc-4414-f655-c1983e4ad9a6"
      },
      "source": [
        "from sklearn.metrics import classification_report\n",
        "\n",
        "print(classification_report(y_true, y_pred))"
      ],
      "execution_count": 106,
      "outputs": [
        {
          "output_type": "stream",
          "text": [
            "              precision    recall  f1-score   support\n",
            "\n",
            "           0       0.82      0.84      0.83       285\n",
            "           1       0.76      0.79      0.78       306\n",
            "           2       0.84      0.88      0.86      1756\n",
            "           3       0.94      0.92      0.93      1093\n",
            "           4       0.83      0.90      0.86       116\n",
            "           5       0.84      0.86      0.85       696\n",
            "           6       0.68      0.80      0.73      1007\n",
            "           7       0.70      0.86      0.77       187\n",
            "           8       0.75      0.77      0.76      1855\n",
            "           9       0.85      0.76      0.80      3825\n",
            "\n",
            "    accuracy                           0.81     11126\n",
            "   macro avg       0.80      0.84      0.82     11126\n",
            "weighted avg       0.82      0.81      0.81     11126\n",
            "\n"
          ],
          "name": "stdout"
        }
      ]
    },
    {
      "cell_type": "code",
      "metadata": {
        "id": "ocN4S1rUh64F",
        "colab_type": "code",
        "colab": {
          "base_uri": "https://localhost:8080/",
          "height": 483
        },
        "outputId": "1a0be320-dea1-404c-8406-85c0d57d231c"
      },
      "source": [
        "conf_mx = confusion_matrix(y_true, y_pred)\n",
        "plot_confusion_matrix(conf_mx)"
      ],
      "execution_count": 114,
      "outputs": [
        {
          "output_type": "display_data",
          "data": {
            "image/png": "[encoded data removed]",
            "text/plain": [
              "<Figure size 576x576 with 2 Axes>"
            ]
          },
          "metadata": {
            "tags": [],
            "needs_background": "light"
          }
        }
      ]
    },
    {
      "cell_type": "code",
      "metadata": {
        "id": "h9Jxc1QO5jpx",
        "colab_type": "code",
        "colab": {
          "base_uri": "https://localhost:8080/",
          "height": 483
        },
        "outputId": "1a25d13b-eaf9-407d-fdc7-be9cd16dd27c"
      },
      "source": [
        "row_sums = conf_mx.sum(axis=1, keepdims=True)\n",
        "col_sum = conf_mx.sum(axis=0, keepdims=True)\n",
        "norm_conf_mx = conf_mx / row_sums\n",
        "np.fill_diagonal(norm_conf_mx, 0)\n",
        "plot_confusion_matrix(norm_conf_mx)"
      ],
      "execution_count": 115,
      "outputs": [
        {
          "output_type": "display_data",
          "data": {
            "image/png": "[encoded data removed]",
            "text/plain": [
              "<Figure size 576x576 with 2 Axes>"
            ]
          },
          "metadata": {
            "tags": [],
            "needs_background": "light"
          }
        }
      ]
    }
  ]
}